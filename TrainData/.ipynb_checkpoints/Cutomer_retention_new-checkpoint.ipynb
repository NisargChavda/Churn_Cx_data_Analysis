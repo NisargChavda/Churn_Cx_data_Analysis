{
 "cells": [
  {
   "cell_type": "code",
   "execution_count": 1,
   "metadata": {
    "id": "5aNsbzvZfiHD"
   },
   "outputs": [],
   "source": [
    "import pandas as pd\n",
    "import seaborn as sns\n",
    "import matplotlib.pyplot as plt\n",
    "import seaborn as sns\n",
    "from sklearn.preprocessing import LabelEncoder\n",
    "from sklearn.model_selection import train_test_split\n",
    "from sklearn.svm import SVC\n",
    "import numpy as np\n",
    "import os"
   ]
  },
  {
   "cell_type": "code",
   "execution_count": 2,
   "metadata": {
    "colab": {
     "base_uri": "https://localhost:8080/"
    },
    "id": "7kD_7LZb3ulw",
    "outputId": "fc70b6d8-e7c6-402d-d919-19f7fa21faf0"
   },
   "outputs": [
    {
     "name": "stdout",
     "output_type": "stream",
     "text": [
      "Mounted at /content/drive\n"
     ]
    }
   ],
   "source": [
    "from google.colab import drive\n",
    "drive.mount('/content/drive')\n"
   ]
  },
  {
   "cell_type": "code",
   "execution_count": 3,
   "metadata": {
    "id": "XA8sqjUUumJg"
   },
   "outputs": [],
   "source": [
    "os.chdir(\"/content/drive/MyDrive/TrainData_6012021/TrainData_6012021/TrainData\")"
   ]
  },
  {
   "cell_type": "markdown",
   "metadata": {
    "id": "TROpAQ5nysBz"
   },
   "source": [
    "**Reading of data:**"
   ]
  },
  {
   "cell_type": "code",
   "execution_count": 4,
   "metadata": {
    "colab": {
     "base_uri": "https://localhost:8080/",
     "height": 221
    },
    "id": "pEaGxHmshDfF",
    "outputId": "d24f7136-0e2d-464a-a475-440888510199"
   },
   "outputs": [
    {
     "name": "stdout",
     "output_type": "stream",
     "text": [
      "(23820, 7)\n"
     ]
    },
    {
     "data": {
      "text/html": [
       "<div>\n",
       "<style scoped>\n",
       "    .dataframe tbody tr th:only-of-type {\n",
       "        vertical-align: middle;\n",
       "    }\n",
       "\n",
       "    .dataframe tbody tr th {\n",
       "        vertical-align: top;\n",
       "    }\n",
       "\n",
       "    .dataframe thead th {\n",
       "        text-align: right;\n",
       "    }\n",
       "</style>\n",
       "<table border=\"1\" class=\"dataframe\">\n",
       "  <thead>\n",
       "    <tr style=\"text-align: right;\">\n",
       "      <th></th>\n",
       "      <th>CustomerID</th>\n",
       "      <th>City</th>\n",
       "      <th>DateOfRegistration</th>\n",
       "      <th>OnlineCommunication</th>\n",
       "      <th>AutomaticRefill</th>\n",
       "      <th>DoorstepDelivery</th>\n",
       "      <th>PreferredDeliveryDay</th>\n",
       "    </tr>\n",
       "  </thead>\n",
       "  <tbody>\n",
       "    <tr>\n",
       "      <th>0</th>\n",
       "      <td>C16368</td>\n",
       "      <td>CITY2</td>\n",
       "      <td>2012-09-28</td>\n",
       "      <td>0</td>\n",
       "      <td>0</td>\n",
       "      <td>0</td>\n",
       "      <td>Monday</td>\n",
       "    </tr>\n",
       "    <tr>\n",
       "      <th>1</th>\n",
       "      <td>C20345</td>\n",
       "      <td>CITY2</td>\n",
       "      <td>2010-12-19</td>\n",
       "      <td>1</td>\n",
       "      <td>1</td>\n",
       "      <td>1</td>\n",
       "      <td>Friday</td>\n",
       "    </tr>\n",
       "    <tr>\n",
       "      <th>2</th>\n",
       "      <td>C17683</td>\n",
       "      <td>CITY2</td>\n",
       "      <td>2010-10-03</td>\n",
       "      <td>0</td>\n",
       "      <td>0</td>\n",
       "      <td>0</td>\n",
       "      <td>Wednesday</td>\n",
       "    </tr>\n",
       "    <tr>\n",
       "      <th>3</th>\n",
       "      <td>C18647</td>\n",
       "      <td>CITY4</td>\n",
       "      <td>2010-11-27</td>\n",
       "      <td>0</td>\n",
       "      <td>0</td>\n",
       "      <td>0</td>\n",
       "      <td>Monday</td>\n",
       "    </tr>\n",
       "    <tr>\n",
       "      <th>4</th>\n",
       "      <td>C36692</td>\n",
       "      <td>CITY2</td>\n",
       "      <td>2009-12-04</td>\n",
       "      <td>1</td>\n",
       "      <td>1</td>\n",
       "      <td>0</td>\n",
       "      <td>Friday</td>\n",
       "    </tr>\n",
       "  </tbody>\n",
       "</table>\n",
       "</div>"
      ],
      "text/plain": [
       "  CustomerID   City  ... DoorstepDelivery  PreferredDeliveryDay\n",
       "0     C16368  CITY2  ...                0                Monday\n",
       "1     C20345  CITY2  ...                1                Friday\n",
       "2     C17683  CITY2  ...                0             Wednesday\n",
       "3     C18647  CITY4  ...                0                Monday\n",
       "4     C36692  CITY2  ...                0                Friday\n",
       "\n",
       "[5 rows x 7 columns]"
      ]
     },
     "execution_count": 4,
     "metadata": {
      "tags": []
     },
     "output_type": "execute_result"
    }
   ],
   "source": [
    "#customer_df = pd.read_csv('Customerdata_Train.csv')\n",
    "\n",
    "customer_df = pd.read_excel('Customerdata_Train.xlsx')\n",
    "print(customer_df.shape)\n",
    "customer_df.head()\n"
   ]
  },
  {
   "cell_type": "code",
   "execution_count": 5,
   "metadata": {
    "colab": {
     "base_uri": "https://localhost:8080/"
    },
    "id": "sH7vYShDygRn",
    "outputId": "10d8a9aa-93d0-4568-b8b7-1da7ba934269"
   },
   "outputs": [
    {
     "data": {
      "text/plain": [
       "dtype('<M8[ns]')"
      ]
     },
     "execution_count": 5,
     "metadata": {
      "tags": []
     },
     "output_type": "execute_result"
    }
   ],
   "source": [
    "customer_df.DateOfRegistration.dtypes"
   ]
  },
  {
   "cell_type": "code",
   "execution_count": 6,
   "metadata": {
    "colab": {
     "base_uri": "https://localhost:8080/",
     "height": 221
    },
    "id": "rqoPXnn8hEzf",
    "outputId": "55c24bce-2922-4dc2-fee7-c954041db304"
   },
   "outputs": [
    {
     "name": "stdout",
     "output_type": "stream",
     "text": [
      "(517672, 6)\n"
     ]
    },
    {
     "data": {
      "text/html": [
       "<div>\n",
       "<style scoped>\n",
       "    .dataframe tbody tr th:only-of-type {\n",
       "        vertical-align: middle;\n",
       "    }\n",
       "\n",
       "    .dataframe tbody tr th {\n",
       "        vertical-align: top;\n",
       "    }\n",
       "\n",
       "    .dataframe thead th {\n",
       "        text-align: right;\n",
       "    }\n",
       "</style>\n",
       "<table border=\"1\" class=\"dataframe\">\n",
       "  <thead>\n",
       "    <tr style=\"text-align: right;\">\n",
       "      <th></th>\n",
       "      <th>CustomerID</th>\n",
       "      <th>DateOfemail</th>\n",
       "      <th>EmailType</th>\n",
       "      <th>timestamp</th>\n",
       "      <th>MailOpened</th>\n",
       "      <th>MailClicked</th>\n",
       "    </tr>\n",
       "  </thead>\n",
       "  <tbody>\n",
       "    <tr>\n",
       "      <th>0</th>\n",
       "      <td>C16368</td>\n",
       "      <td>2012-09-28</td>\n",
       "      <td>WelcomeEmail</td>\n",
       "      <td>15:56:50</td>\n",
       "      <td>yes</td>\n",
       "      <td>NotApplicable</td>\n",
       "    </tr>\n",
       "    <tr>\n",
       "      <th>1</th>\n",
       "      <td>C20345</td>\n",
       "      <td>2010-12-19</td>\n",
       "      <td>WelcomeEmail</td>\n",
       "      <td>15:10:30</td>\n",
       "      <td>yes</td>\n",
       "      <td>NotApplicable</td>\n",
       "    </tr>\n",
       "    <tr>\n",
       "      <th>2</th>\n",
       "      <td>C17683</td>\n",
       "      <td>2010-10-03</td>\n",
       "      <td>WelcomeEmail</td>\n",
       "      <td>17:12:24</td>\n",
       "      <td>yes</td>\n",
       "      <td>NotApplicable</td>\n",
       "    </tr>\n",
       "    <tr>\n",
       "      <th>3</th>\n",
       "      <td>C18647</td>\n",
       "      <td>2010-11-27</td>\n",
       "      <td>WelcomeEmail</td>\n",
       "      <td>16:59:02</td>\n",
       "      <td>yes</td>\n",
       "      <td>NotApplicable</td>\n",
       "    </tr>\n",
       "    <tr>\n",
       "      <th>4</th>\n",
       "      <td>C36692</td>\n",
       "      <td>2009-12-04</td>\n",
       "      <td>WelcomeEmail</td>\n",
       "      <td>17:27:22</td>\n",
       "      <td>yes</td>\n",
       "      <td>NotApplicable</td>\n",
       "    </tr>\n",
       "  </tbody>\n",
       "</table>\n",
       "</div>"
      ],
      "text/plain": [
       "  CustomerID DateOfemail     EmailType timestamp MailOpened    MailClicked\n",
       "0     C16368  2012-09-28  WelcomeEmail  15:56:50        yes  NotApplicable\n",
       "1     C20345  2010-12-19  WelcomeEmail  15:10:30        yes  NotApplicable\n",
       "2     C17683  2010-10-03  WelcomeEmail  17:12:24        yes  NotApplicable\n",
       "3     C18647  2010-11-27  WelcomeEmail  16:59:02        yes  NotApplicable\n",
       "4     C36692  2009-12-04  WelcomeEmail  17:27:22        yes  NotApplicable"
      ]
     },
     "execution_count": 6,
     "metadata": {
      "tags": []
     },
     "output_type": "execute_result"
    }
   ],
   "source": [
    "email_df = pd.read_csv('Emaildata_Train.csv')\n",
    "print(email_df.shape)\n",
    "email_df.head()"
   ]
  },
  {
   "cell_type": "code",
   "execution_count": 7,
   "metadata": {
    "colab": {
     "base_uri": "https://localhost:8080/"
    },
    "id": "mdFhfd4IygRp",
    "outputId": "d803a6d1-ed4c-4c6f-8e72-50cf2e1185e4"
   },
   "outputs": [
    {
     "data": {
      "text/plain": [
       "dtype('O')"
      ]
     },
     "execution_count": 7,
     "metadata": {
      "tags": []
     },
     "output_type": "execute_result"
    }
   ],
   "source": [
    "email_df.DateOfemail.dtypes"
   ]
  },
  {
   "cell_type": "code",
   "execution_count": 8,
   "metadata": {
    "colab": {
     "base_uri": "https://localhost:8080/",
     "height": 221
    },
    "id": "5w9fb0OVhGtz",
    "outputId": "cee39245-b823-4486-c5cc-95380df4cac1"
   },
   "outputs": [
    {
     "name": "stdout",
     "output_type": "stream",
     "text": [
      "(23820, 2)\n"
     ]
    },
    {
     "data": {
      "text/html": [
       "<div>\n",
       "<style scoped>\n",
       "    .dataframe tbody tr th:only-of-type {\n",
       "        vertical-align: middle;\n",
       "    }\n",
       "\n",
       "    .dataframe tbody tr th {\n",
       "        vertical-align: top;\n",
       "    }\n",
       "\n",
       "    .dataframe thead th {\n",
       "        text-align: right;\n",
       "    }\n",
       "</style>\n",
       "<table border=\"1\" class=\"dataframe\">\n",
       "  <thead>\n",
       "    <tr style=\"text-align: right;\">\n",
       "      <th></th>\n",
       "      <th>CustomerID</th>\n",
       "      <th>RetentionPotential</th>\n",
       "    </tr>\n",
       "  </thead>\n",
       "  <tbody>\n",
       "    <tr>\n",
       "      <th>0</th>\n",
       "      <td>C37869</td>\n",
       "      <td>Low</td>\n",
       "    </tr>\n",
       "    <tr>\n",
       "      <th>1</th>\n",
       "      <td>C33841</td>\n",
       "      <td>Low</td>\n",
       "    </tr>\n",
       "    <tr>\n",
       "      <th>2</th>\n",
       "      <td>C29464</td>\n",
       "      <td>Low</td>\n",
       "    </tr>\n",
       "    <tr>\n",
       "      <th>3</th>\n",
       "      <td>C28158</td>\n",
       "      <td>Low</td>\n",
       "    </tr>\n",
       "    <tr>\n",
       "      <th>4</th>\n",
       "      <td>C22785</td>\n",
       "      <td>High</td>\n",
       "    </tr>\n",
       "  </tbody>\n",
       "</table>\n",
       "</div>"
      ],
      "text/plain": [
       "  CustomerID RetentionPotential\n",
       "0     C37869                Low\n",
       "1     C33841                Low\n",
       "2     C29464                Low\n",
       "3     C28158                Low\n",
       "4     C22785               High"
      ]
     },
     "execution_count": 8,
     "metadata": {
      "tags": []
     },
     "output_type": "execute_result"
    }
   ],
   "source": [
    "train_df = pd.read_csv('Train.csv')\n",
    "print(train_df.shape)\n",
    "train_df.head()"
   ]
  },
  {
   "cell_type": "code",
   "execution_count": 9,
   "metadata": {
    "colab": {
     "base_uri": "https://localhost:8080/",
     "height": 221
    },
    "id": "SNSKF5sB6Txj",
    "outputId": "17613488-0fbf-4694-db78-a2115f08c509"
   },
   "outputs": [
    {
     "name": "stdout",
     "output_type": "stream",
     "text": [
      "(104755, 4)\n"
     ]
    },
    {
     "data": {
      "text/html": [
       "<div>\n",
       "<style scoped>\n",
       "    .dataframe tbody tr th:only-of-type {\n",
       "        vertical-align: middle;\n",
       "    }\n",
       "\n",
       "    .dataframe tbody tr th {\n",
       "        vertical-align: top;\n",
       "    }\n",
       "\n",
       "    .dataframe thead th {\n",
       "        text-align: right;\n",
       "    }\n",
       "</style>\n",
       "<table border=\"1\" class=\"dataframe\">\n",
       "  <thead>\n",
       "    <tr style=\"text-align: right;\">\n",
       "      <th></th>\n",
       "      <th>CustomerID</th>\n",
       "      <th>DateOfOrder</th>\n",
       "      <th>timestamp</th>\n",
       "      <th>OrderQuantity</th>\n",
       "    </tr>\n",
       "  </thead>\n",
       "  <tbody>\n",
       "    <tr>\n",
       "      <th>0</th>\n",
       "      <td>C16368</td>\n",
       "      <td>2013-08-11</td>\n",
       "      <td>15:17:52</td>\n",
       "      <td>15</td>\n",
       "    </tr>\n",
       "    <tr>\n",
       "      <th>1</th>\n",
       "      <td>C20345</td>\n",
       "      <td>2011-04-01</td>\n",
       "      <td>19:50:00</td>\n",
       "      <td>92</td>\n",
       "    </tr>\n",
       "    <tr>\n",
       "      <th>2</th>\n",
       "      <td>C20345</td>\n",
       "      <td>2012-06-29</td>\n",
       "      <td>15:11:56</td>\n",
       "      <td>95</td>\n",
       "    </tr>\n",
       "    <tr>\n",
       "      <th>3</th>\n",
       "      <td>C20345</td>\n",
       "      <td>2012-09-22</td>\n",
       "      <td>20:49:10</td>\n",
       "      <td>74</td>\n",
       "    </tr>\n",
       "    <tr>\n",
       "      <th>4</th>\n",
       "      <td>C20345</td>\n",
       "      <td>2011-08-23</td>\n",
       "      <td>11:50:26</td>\n",
       "      <td>81</td>\n",
       "    </tr>\n",
       "  </tbody>\n",
       "</table>\n",
       "</div>"
      ],
      "text/plain": [
       "  CustomerID DateOfOrder timestamp  OrderQuantity\n",
       "0     C16368  2013-08-11  15:17:52             15\n",
       "1     C20345  2011-04-01  19:50:00             92\n",
       "2     C20345  2012-06-29  15:11:56             95\n",
       "3     C20345  2012-09-22  20:49:10             74\n",
       "4     C20345  2011-08-23  11:50:26             81"
      ]
     },
     "execution_count": 9,
     "metadata": {
      "tags": []
     },
     "output_type": "execute_result"
    }
   ],
   "source": [
    "transaction_df = pd.read_csv('transactionsdata_Train.csv')\n",
    "print(transaction_df.shape)\n",
    "transaction_df.head()"
   ]
  },
  {
   "cell_type": "markdown",
   "metadata": {
    "id": "Ecwcnph5y5is"
   },
   "source": [
    "Merging the Data into one common dataframe based on \"Customer ID\":"
   ]
  },
  {
   "cell_type": "code",
   "execution_count": 10,
   "metadata": {
    "colab": {
     "base_uri": "https://localhost:8080/",
     "height": 221
    },
    "id": "ztApdLsC6ezH",
    "outputId": "f2eb5e13-760c-41e6-e5c8-1665fc60fa17"
   },
   "outputs": [
    {
     "name": "stdout",
     "output_type": "stream",
     "text": [
      "(23820, 8)\n"
     ]
    },
    {
     "data": {
      "text/html": [
       "<div>\n",
       "<style scoped>\n",
       "    .dataframe tbody tr th:only-of-type {\n",
       "        vertical-align: middle;\n",
       "    }\n",
       "\n",
       "    .dataframe tbody tr th {\n",
       "        vertical-align: top;\n",
       "    }\n",
       "\n",
       "    .dataframe thead th {\n",
       "        text-align: right;\n",
       "    }\n",
       "</style>\n",
       "<table border=\"1\" class=\"dataframe\">\n",
       "  <thead>\n",
       "    <tr style=\"text-align: right;\">\n",
       "      <th></th>\n",
       "      <th>CustomerID</th>\n",
       "      <th>City</th>\n",
       "      <th>DateOfRegistration</th>\n",
       "      <th>OnlineCommunication</th>\n",
       "      <th>AutomaticRefill</th>\n",
       "      <th>DoorstepDelivery</th>\n",
       "      <th>PreferredDeliveryDay</th>\n",
       "      <th>RetentionPotential</th>\n",
       "    </tr>\n",
       "  </thead>\n",
       "  <tbody>\n",
       "    <tr>\n",
       "      <th>0</th>\n",
       "      <td>C16368</td>\n",
       "      <td>CITY2</td>\n",
       "      <td>2012-09-28</td>\n",
       "      <td>0</td>\n",
       "      <td>0</td>\n",
       "      <td>0</td>\n",
       "      <td>Monday</td>\n",
       "      <td>High</td>\n",
       "    </tr>\n",
       "    <tr>\n",
       "      <th>1</th>\n",
       "      <td>C20345</td>\n",
       "      <td>CITY2</td>\n",
       "      <td>2010-12-19</td>\n",
       "      <td>1</td>\n",
       "      <td>1</td>\n",
       "      <td>1</td>\n",
       "      <td>Friday</td>\n",
       "      <td>Low</td>\n",
       "    </tr>\n",
       "    <tr>\n",
       "      <th>2</th>\n",
       "      <td>C17683</td>\n",
       "      <td>CITY2</td>\n",
       "      <td>2010-10-03</td>\n",
       "      <td>0</td>\n",
       "      <td>0</td>\n",
       "      <td>0</td>\n",
       "      <td>Wednesday</td>\n",
       "      <td>Medium</td>\n",
       "    </tr>\n",
       "    <tr>\n",
       "      <th>3</th>\n",
       "      <td>C18647</td>\n",
       "      <td>CITY4</td>\n",
       "      <td>2010-11-27</td>\n",
       "      <td>0</td>\n",
       "      <td>0</td>\n",
       "      <td>0</td>\n",
       "      <td>Monday</td>\n",
       "      <td>Low</td>\n",
       "    </tr>\n",
       "    <tr>\n",
       "      <th>4</th>\n",
       "      <td>C36692</td>\n",
       "      <td>CITY2</td>\n",
       "      <td>2009-12-04</td>\n",
       "      <td>1</td>\n",
       "      <td>1</td>\n",
       "      <td>0</td>\n",
       "      <td>Friday</td>\n",
       "      <td>Low</td>\n",
       "    </tr>\n",
       "  </tbody>\n",
       "</table>\n",
       "</div>"
      ],
      "text/plain": [
       "  CustomerID   City  ... PreferredDeliveryDay  RetentionPotential\n",
       "0     C16368  CITY2  ...               Monday                High\n",
       "1     C20345  CITY2  ...               Friday                 Low\n",
       "2     C17683  CITY2  ...            Wednesday              Medium\n",
       "3     C18647  CITY4  ...               Monday                 Low\n",
       "4     C36692  CITY2  ...               Friday                 Low\n",
       "\n",
       "[5 rows x 8 columns]"
      ]
     },
     "execution_count": 10,
     "metadata": {
      "tags": []
     },
     "output_type": "execute_result"
    }
   ],
   "source": [
    "df1 = pd.merge(customer_df, train_df, on = 'CustomerID', how = 'left')\n",
    "print(df1.shape)\n",
    "df1.head()"
   ]
  },
  {
   "cell_type": "code",
   "execution_count": 11,
   "metadata": {
    "colab": {
     "base_uri": "https://localhost:8080/",
     "height": 241
    },
    "id": "T1gjrpAZ9X_2",
    "outputId": "ee09baee-5a5e-4892-95a9-43db5920f6c4"
   },
   "outputs": [
    {
     "name": "stdout",
     "output_type": "stream",
     "text": [
      "(517672, 13)\n"
     ]
    },
    {
     "data": {
      "text/html": [
       "<div>\n",
       "<style scoped>\n",
       "    .dataframe tbody tr th:only-of-type {\n",
       "        vertical-align: middle;\n",
       "    }\n",
       "\n",
       "    .dataframe tbody tr th {\n",
       "        vertical-align: top;\n",
       "    }\n",
       "\n",
       "    .dataframe thead th {\n",
       "        text-align: right;\n",
       "    }\n",
       "</style>\n",
       "<table border=\"1\" class=\"dataframe\">\n",
       "  <thead>\n",
       "    <tr style=\"text-align: right;\">\n",
       "      <th></th>\n",
       "      <th>CustomerID</th>\n",
       "      <th>City</th>\n",
       "      <th>DateOfRegistration</th>\n",
       "      <th>OnlineCommunication</th>\n",
       "      <th>AutomaticRefill</th>\n",
       "      <th>DoorstepDelivery</th>\n",
       "      <th>PreferredDeliveryDay</th>\n",
       "      <th>RetentionPotential</th>\n",
       "      <th>DateOfemail</th>\n",
       "      <th>EmailType</th>\n",
       "      <th>timestamp</th>\n",
       "      <th>MailOpened</th>\n",
       "      <th>MailClicked</th>\n",
       "    </tr>\n",
       "  </thead>\n",
       "  <tbody>\n",
       "    <tr>\n",
       "      <th>0</th>\n",
       "      <td>C16368</td>\n",
       "      <td>CITY2</td>\n",
       "      <td>2012-09-28</td>\n",
       "      <td>0</td>\n",
       "      <td>0</td>\n",
       "      <td>0</td>\n",
       "      <td>Monday</td>\n",
       "      <td>High</td>\n",
       "      <td>2012-09-28</td>\n",
       "      <td>WelcomeEmail</td>\n",
       "      <td>15:56:50</td>\n",
       "      <td>yes</td>\n",
       "      <td>NotApplicable</td>\n",
       "    </tr>\n",
       "    <tr>\n",
       "      <th>1</th>\n",
       "      <td>C16368</td>\n",
       "      <td>CITY2</td>\n",
       "      <td>2012-09-28</td>\n",
       "      <td>0</td>\n",
       "      <td>0</td>\n",
       "      <td>0</td>\n",
       "      <td>Monday</td>\n",
       "      <td>High</td>\n",
       "      <td>2013-05-20</td>\n",
       "      <td>CustomizedEmail</td>\n",
       "      <td>15:10:30</td>\n",
       "      <td>yes</td>\n",
       "      <td>no</td>\n",
       "    </tr>\n",
       "    <tr>\n",
       "      <th>2</th>\n",
       "      <td>C16368</td>\n",
       "      <td>CITY2</td>\n",
       "      <td>2012-09-28</td>\n",
       "      <td>0</td>\n",
       "      <td>0</td>\n",
       "      <td>0</td>\n",
       "      <td>Monday</td>\n",
       "      <td>High</td>\n",
       "      <td>2013-02-05</td>\n",
       "      <td>CustomizedEmail</td>\n",
       "      <td>13:54:22</td>\n",
       "      <td>yes</td>\n",
       "      <td>no</td>\n",
       "    </tr>\n",
       "    <tr>\n",
       "      <th>3</th>\n",
       "      <td>C16368</td>\n",
       "      <td>CITY2</td>\n",
       "      <td>2012-09-28</td>\n",
       "      <td>0</td>\n",
       "      <td>0</td>\n",
       "      <td>0</td>\n",
       "      <td>Monday</td>\n",
       "      <td>High</td>\n",
       "      <td>2012-11-26</td>\n",
       "      <td>CustomizedEmail</td>\n",
       "      <td>11:22:32</td>\n",
       "      <td>yes</td>\n",
       "      <td>no</td>\n",
       "    </tr>\n",
       "    <tr>\n",
       "      <th>4</th>\n",
       "      <td>C16368</td>\n",
       "      <td>CITY2</td>\n",
       "      <td>2012-09-28</td>\n",
       "      <td>0</td>\n",
       "      <td>0</td>\n",
       "      <td>0</td>\n",
       "      <td>Monday</td>\n",
       "      <td>High</td>\n",
       "      <td>2013-05-30</td>\n",
       "      <td>CustomizedEmail</td>\n",
       "      <td>14:04:42</td>\n",
       "      <td>yes</td>\n",
       "      <td>no</td>\n",
       "    </tr>\n",
       "  </tbody>\n",
       "</table>\n",
       "</div>"
      ],
      "text/plain": [
       "  CustomerID   City DateOfRegistration  ...  timestamp  MailOpened    MailClicked\n",
       "0     C16368  CITY2         2012-09-28  ...   15:56:50         yes  NotApplicable\n",
       "1     C16368  CITY2         2012-09-28  ...   15:10:30         yes             no\n",
       "2     C16368  CITY2         2012-09-28  ...   13:54:22         yes             no\n",
       "3     C16368  CITY2         2012-09-28  ...   11:22:32         yes             no\n",
       "4     C16368  CITY2         2012-09-28  ...   14:04:42         yes             no\n",
       "\n",
       "[5 rows x 13 columns]"
      ]
     },
     "execution_count": 11,
     "metadata": {
      "tags": []
     },
     "output_type": "execute_result"
    }
   ],
   "source": [
    "df2 = pd.merge(df1, email_df, on = 'CustomerID', how = 'left')\n",
    "print(df2.shape)\n",
    "df2.head()"
   ]
  },
  {
   "cell_type": "code",
   "execution_count": 12,
   "metadata": {
    "colab": {
     "base_uri": "https://localhost:8080/",
     "height": 241
    },
    "id": "FeGq0Vtf9hBv",
    "outputId": "81135e86-afb2-4648-ecd6-7f596f51445f"
   },
   "outputs": [
    {
     "name": "stdout",
     "output_type": "stream",
     "text": [
      "(3883469, 16)\n"
     ]
    },
    {
     "data": {
      "text/html": [
       "<div>\n",
       "<style scoped>\n",
       "    .dataframe tbody tr th:only-of-type {\n",
       "        vertical-align: middle;\n",
       "    }\n",
       "\n",
       "    .dataframe tbody tr th {\n",
       "        vertical-align: top;\n",
       "    }\n",
       "\n",
       "    .dataframe thead th {\n",
       "        text-align: right;\n",
       "    }\n",
       "</style>\n",
       "<table border=\"1\" class=\"dataframe\">\n",
       "  <thead>\n",
       "    <tr style=\"text-align: right;\">\n",
       "      <th></th>\n",
       "      <th>CustomerID</th>\n",
       "      <th>City</th>\n",
       "      <th>DateOfRegistration</th>\n",
       "      <th>OnlineCommunication</th>\n",
       "      <th>AutomaticRefill</th>\n",
       "      <th>DoorstepDelivery</th>\n",
       "      <th>PreferredDeliveryDay</th>\n",
       "      <th>RetentionPotential</th>\n",
       "      <th>DateOfemail</th>\n",
       "      <th>EmailType</th>\n",
       "      <th>timestamp_x</th>\n",
       "      <th>MailOpened</th>\n",
       "      <th>MailClicked</th>\n",
       "      <th>DateOfOrder</th>\n",
       "      <th>timestamp_y</th>\n",
       "      <th>OrderQuantity</th>\n",
       "    </tr>\n",
       "  </thead>\n",
       "  <tbody>\n",
       "    <tr>\n",
       "      <th>0</th>\n",
       "      <td>C16368</td>\n",
       "      <td>CITY2</td>\n",
       "      <td>2012-09-28</td>\n",
       "      <td>0</td>\n",
       "      <td>0</td>\n",
       "      <td>0</td>\n",
       "      <td>Monday</td>\n",
       "      <td>High</td>\n",
       "      <td>2012-09-28</td>\n",
       "      <td>WelcomeEmail</td>\n",
       "      <td>15:56:50</td>\n",
       "      <td>yes</td>\n",
       "      <td>NotApplicable</td>\n",
       "      <td>2013-08-11</td>\n",
       "      <td>15:17:52</td>\n",
       "      <td>15</td>\n",
       "    </tr>\n",
       "    <tr>\n",
       "      <th>1</th>\n",
       "      <td>C16368</td>\n",
       "      <td>CITY2</td>\n",
       "      <td>2012-09-28</td>\n",
       "      <td>0</td>\n",
       "      <td>0</td>\n",
       "      <td>0</td>\n",
       "      <td>Monday</td>\n",
       "      <td>High</td>\n",
       "      <td>2013-05-20</td>\n",
       "      <td>CustomizedEmail</td>\n",
       "      <td>15:10:30</td>\n",
       "      <td>yes</td>\n",
       "      <td>no</td>\n",
       "      <td>2013-08-11</td>\n",
       "      <td>15:17:52</td>\n",
       "      <td>15</td>\n",
       "    </tr>\n",
       "    <tr>\n",
       "      <th>2</th>\n",
       "      <td>C16368</td>\n",
       "      <td>CITY2</td>\n",
       "      <td>2012-09-28</td>\n",
       "      <td>0</td>\n",
       "      <td>0</td>\n",
       "      <td>0</td>\n",
       "      <td>Monday</td>\n",
       "      <td>High</td>\n",
       "      <td>2013-02-05</td>\n",
       "      <td>CustomizedEmail</td>\n",
       "      <td>13:54:22</td>\n",
       "      <td>yes</td>\n",
       "      <td>no</td>\n",
       "      <td>2013-08-11</td>\n",
       "      <td>15:17:52</td>\n",
       "      <td>15</td>\n",
       "    </tr>\n",
       "    <tr>\n",
       "      <th>3</th>\n",
       "      <td>C16368</td>\n",
       "      <td>CITY2</td>\n",
       "      <td>2012-09-28</td>\n",
       "      <td>0</td>\n",
       "      <td>0</td>\n",
       "      <td>0</td>\n",
       "      <td>Monday</td>\n",
       "      <td>High</td>\n",
       "      <td>2012-11-26</td>\n",
       "      <td>CustomizedEmail</td>\n",
       "      <td>11:22:32</td>\n",
       "      <td>yes</td>\n",
       "      <td>no</td>\n",
       "      <td>2013-08-11</td>\n",
       "      <td>15:17:52</td>\n",
       "      <td>15</td>\n",
       "    </tr>\n",
       "    <tr>\n",
       "      <th>4</th>\n",
       "      <td>C16368</td>\n",
       "      <td>CITY2</td>\n",
       "      <td>2012-09-28</td>\n",
       "      <td>0</td>\n",
       "      <td>0</td>\n",
       "      <td>0</td>\n",
       "      <td>Monday</td>\n",
       "      <td>High</td>\n",
       "      <td>2013-05-30</td>\n",
       "      <td>CustomizedEmail</td>\n",
       "      <td>14:04:42</td>\n",
       "      <td>yes</td>\n",
       "      <td>no</td>\n",
       "      <td>2013-08-11</td>\n",
       "      <td>15:17:52</td>\n",
       "      <td>15</td>\n",
       "    </tr>\n",
       "  </tbody>\n",
       "</table>\n",
       "</div>"
      ],
      "text/plain": [
       "  CustomerID   City DateOfRegistration  ...  DateOfOrder  timestamp_y  OrderQuantity\n",
       "0     C16368  CITY2         2012-09-28  ...   2013-08-11     15:17:52             15\n",
       "1     C16368  CITY2         2012-09-28  ...   2013-08-11     15:17:52             15\n",
       "2     C16368  CITY2         2012-09-28  ...   2013-08-11     15:17:52             15\n",
       "3     C16368  CITY2         2012-09-28  ...   2013-08-11     15:17:52             15\n",
       "4     C16368  CITY2         2012-09-28  ...   2013-08-11     15:17:52             15\n",
       "\n",
       "[5 rows x 16 columns]"
      ]
     },
     "execution_count": 12,
     "metadata": {
      "tags": []
     },
     "output_type": "execute_result"
    }
   ],
   "source": [
    "df3 = pd.merge(df2, transaction_df , on = 'CustomerID', how = 'left')\n",
    "print(df3.shape)\n",
    "df3.head()"
   ]
  },
  {
   "cell_type": "markdown",
   "metadata": {
    "id": "vtYcdqH7zIU3"
   },
   "source": [
    "We could see their are 2 columns for timestamp(for registration date and Email date), hence we will concatenate them with their respective dates:"
   ]
  },
  {
   "cell_type": "code",
   "execution_count": 13,
   "metadata": {
    "id": "faekNhJA9p0h"
   },
   "outputs": [],
   "source": [
    "if 'timestamp_x' in df3.columns:\n",
    "  df3['DateOfOrder'] = df3['DateOfOrder']+' '+ df3['timestamp_x'] \n",
    "  df3['DateOfOrder'] = pd.to_datetime(df3['DateOfOrder'])\n",
    "  del df3['timestamp_x']\n",
    "\n",
    "if 'timestamp_y' in df3.columns:\n",
    "  df3['DateOfemail'] = df3['DateOfemail']+' '+ df3['timestamp_y'] \n",
    "  df3['DateOfemail'] = pd.to_datetime(df3['DateOfemail'])\n",
    "  del df3['timestamp_y']"
   ]
  },
  {
   "cell_type": "code",
   "execution_count": 14,
   "metadata": {
    "colab": {
     "base_uri": "https://localhost:8080/"
    },
    "id": "kBXKQYaqTTZy",
    "outputId": "91fe11cf-f47d-40f1-e487-be0e6ad629f7"
   },
   "outputs": [
    {
     "data": {
      "text/plain": [
       "{'C15455': 10860,\n",
       " 'C16810': 11092,\n",
       " 'C20197': 10494,\n",
       " 'C20345': 17856,\n",
       " 'C22536': 11224,\n",
       " 'C23174': 11055,\n",
       " 'C23978': 15300,\n",
       " 'C33945': 20240,\n",
       " 'C35549': 16030,\n",
       " 'C41705': 10804}"
      ]
     },
     "execution_count": 14,
     "metadata": {
      "tags": []
     },
     "output_type": "execute_result"
    }
   ],
   "source": [
    "df3['CustomerID'].value_counts()[:10].to_dict()"
   ]
  },
  {
   "cell_type": "code",
   "execution_count": 15,
   "metadata": {
    "colab": {
     "base_uri": "https://localhost:8080/"
    },
    "id": "saQvtcLyKr2A",
    "outputId": "aadd8a7a-3888-409a-bfbd-e509f31f05e8"
   },
   "outputs": [
    {
     "data": {
      "text/plain": [
       "CustomerID                      object\n",
       "City                            object\n",
       "DateOfRegistration      datetime64[ns]\n",
       "OnlineCommunication              int64\n",
       "AutomaticRefill                  int64\n",
       "DoorstepDelivery                 int64\n",
       "PreferredDeliveryDay            object\n",
       "RetentionPotential              object\n",
       "DateOfemail             datetime64[ns]\n",
       "EmailType                       object\n",
       "MailOpened                      object\n",
       "MailClicked                     object\n",
       "DateOfOrder             datetime64[ns]\n",
       "OrderQuantity                    int64\n",
       "dtype: object"
      ]
     },
     "execution_count": 15,
     "metadata": {
      "tags": []
     },
     "output_type": "execute_result"
    }
   ],
   "source": [
    "df3.dtypes"
   ]
  },
  {
   "cell_type": "code",
   "execution_count": 16,
   "metadata": {
    "colab": {
     "base_uri": "https://localhost:8080/"
    },
    "id": "11m_cEmaZ9d8",
    "outputId": "b38b5312-9825-44b0-f2bd-b37fdb584b67"
   },
   "outputs": [
    {
     "data": {
      "text/plain": [
       "CustomerID              0\n",
       "City                    0\n",
       "DateOfRegistration      0\n",
       "OnlineCommunication     0\n",
       "AutomaticRefill         0\n",
       "DoorstepDelivery        0\n",
       "PreferredDeliveryDay    0\n",
       "RetentionPotential      0\n",
       "DateOfemail             0\n",
       "EmailType               0\n",
       "MailOpened              0\n",
       "MailClicked             0\n",
       "DateOfOrder             0\n",
       "OrderQuantity           0\n",
       "dtype: int64"
      ]
     },
     "execution_count": 16,
     "metadata": {
      "tags": []
     },
     "output_type": "execute_result"
    }
   ],
   "source": [
    "df3.isnull().sum()"
   ]
  },
  {
   "cell_type": "markdown",
   "metadata": {
    "id": "fI1PWCASzp1n"
   },
   "source": [
    "No missing values found in the data.\n",
    "Now, lets plot the categorical variables:"
   ]
  },
  {
   "cell_type": "code",
   "execution_count": 17,
   "metadata": {
    "id": "PXupOAn8ygR1"
   },
   "outputs": [],
   "source": [
    "column_datatypes = df3.dtypes\n",
    "continuous_columns = list(column_datatypes[column_datatypes==\"int64\"].index.values)"
   ]
  },
  {
   "cell_type": "code",
   "execution_count": 18,
   "metadata": {
    "colab": {
     "base_uri": "https://localhost:8080/",
     "height": 282
    },
    "id": "z1Ojg8eyeNdD",
    "outputId": "12ed93ac-c391-4de9-8e98-2a76efcd5f74"
   },
   "outputs": [
    {
     "data": {
      "text/plain": [
       "<matplotlib.axes._subplots.AxesSubplot at 0x7fde33cd4690>"
      ]
     },
     "execution_count": 18,
     "metadata": {
      "tags": []
     },
     "output_type": "execute_result"
    },
    {
     "data": {
      "image/png": "[encoded data removed]",
      "text/plain": [
       "<Figure size 432x288 with 1 Axes>"
      ]
     },
     "metadata": {
      "needs_background": "light",
      "tags": []
     },
     "output_type": "display_data"
    }
   ],
   "source": [
    "sns.boxplot(data=df3[continuous_columns],orient='h')"
   ]
  },
  {
   "cell_type": "code",
   "execution_count": 19,
   "metadata": {
    "colab": {
     "base_uri": "https://localhost:8080/"
    },
    "id": "91S3m5TvygR2",
    "outputId": "c995b660-9483-4994-d492-9c32d25ee26b"
   },
   "outputs": [
    {
     "data": {
      "text/plain": [
       "147.0"
      ]
     },
     "execution_count": 19,
     "metadata": {
      "tags": []
     },
     "output_type": "execute_result"
    }
   ],
   "source": [
    "Q90 = df3['OrderQuantity'].quantile(0.90)\n",
    "Q90"
   ]
  },
  {
   "cell_type": "code",
   "execution_count": 20,
   "metadata": {
    "colab": {
     "base_uri": "https://localhost:8080/"
    },
    "id": "eT0W_f-qygR3",
    "outputId": "586b61b1-a970-4880-f516-cc22d9232037"
   },
   "outputs": [
    {
     "name": "stdout",
     "output_type": "stream",
     "text": [
      "1501.0\n",
      "235.0\n"
     ]
    }
   ],
   "source": [
    "Q100 = df3['OrderQuantity'].quantile(1)\n",
    "Q99 = df3['OrderQuantity'].quantile(0.99)\n",
    "print(Q100)\n",
    "print(Q99)"
   ]
  },
  {
   "cell_type": "markdown",
   "metadata": {
    "id": "ZaUwive80iAR"
   },
   "source": [
    "We could see their is an outlier in \"OrderQuantity\" and in rest the values are just 0s and 1s. \n"
   ]
  },
  {
   "cell_type": "code",
   "execution_count": 20,
   "metadata": {
    "id": "v5Q2rAxF0dCU"
   },
   "outputs": [],
   "source": []
  },
  {
   "cell_type": "code",
   "execution_count": 21,
   "metadata": {
    "colab": {
     "base_uri": "https://localhost:8080/"
    },
    "id": "hkuhIBgQygR4",
    "outputId": "8f2f40d5-8eae-4930-974e-66bf63c9f0eb"
   },
   "outputs": [
    {
     "data": {
      "text/plain": [
       "728.0"
      ]
     },
     "execution_count": 21,
     "metadata": {
      "tags": []
     },
     "output_type": "execute_result"
    }
   ],
   "source": [
    "df3['OrderQuantity'] = np.where(df3['OrderQuantity']==df3['OrderQuantity'].quantile(1),df3['OrderQuantity'].quantile(0.99),df3['OrderQuantity'])\n",
    "df3['OrderQuantity'].quantile(1)"
   ]
  },
  {
   "cell_type": "code",
   "execution_count": 22,
   "metadata": {
    "colab": {
     "base_uri": "https://localhost:8080/",
     "height": 282
    },
    "id": "eEvppSIlygR4",
    "outputId": "71358b88-1035-4d00-a602-0bcad6f4040e"
   },
   "outputs": [
    {
     "data": {
      "text/plain": [
       "<matplotlib.axes._subplots.AxesSubplot at 0x7fde343ace50>"
      ]
     },
     "execution_count": 22,
     "metadata": {
      "tags": []
     },
     "output_type": "execute_result"
    },
    {
     "data": {
      "image/png": "[encoded data removed]",
      "text/plain": [
       "<Figure size 432x288 with 1 Axes>"
      ]
     },
     "metadata": {
      "needs_background": "light",
      "tags": []
     },
     "output_type": "display_data"
    }
   ],
   "source": [
    "sns.boxplot(data=df3[continuous_columns],orient='h')"
   ]
  },
  {
   "cell_type": "code",
   "execution_count": 23,
   "metadata": {
    "colab": {
     "base_uri": "https://localhost:8080/"
    },
    "id": "37SW_c8TygR5",
    "outputId": "562df175-1c86-483b-aee3-cbe61b37381c"
   },
   "outputs": [
    {
     "data": {
      "text/plain": [
       "array([0, 1])"
      ]
     },
     "execution_count": 23,
     "metadata": {
      "tags": []
     },
     "output_type": "execute_result"
    }
   ],
   "source": [
    "df3['AutomaticRefill'].unique()"
   ]
  },
  {
   "cell_type": "code",
   "execution_count": 24,
   "metadata": {
    "colab": {
     "base_uri": "https://localhost:8080/"
    },
    "id": "JzZzLb91ygR6",
    "outputId": "c3b845be-5c96-4fe8-85d0-83e7ba6c670d"
   },
   "outputs": [
    {
     "data": {
      "text/plain": [
       "array([0, 1])"
      ]
     },
     "execution_count": 24,
     "metadata": {
      "tags": []
     },
     "output_type": "execute_result"
    }
   ],
   "source": [
    "df3['DoorstepDelivery'].unique()"
   ]
  },
  {
   "cell_type": "code",
   "execution_count": 25,
   "metadata": {
    "colab": {
     "base_uri": "https://localhost:8080/"
    },
    "id": "ptz9XB8cygR7",
    "outputId": "39d75d7f-963d-4002-9713-dfbb6cafb0f9"
   },
   "outputs": [
    {
     "data": {
      "text/plain": [
       "array([0, 1])"
      ]
     },
     "execution_count": 25,
     "metadata": {
      "tags": []
     },
     "output_type": "execute_result"
    }
   ],
   "source": [
    "df3['OnlineCommunication'].unique()"
   ]
  },
  {
   "cell_type": "markdown",
   "metadata": {
    "id": "-Z7dOXJ5ygR8"
   },
   "source": [
    "There is an outlier"
   ]
  },
  {
   "cell_type": "code",
   "execution_count": 26,
   "metadata": {
    "id": "ju7wFwXGygR9"
   },
   "outputs": [],
   "source": [
    "#plt.hist(df3['City'])"
   ]
  },
  {
   "cell_type": "code",
   "execution_count": 27,
   "metadata": {
    "id": "cybwKafGygR-"
   },
   "outputs": [],
   "source": [
    "#df3['DateOfRegistration'] = pd.to_datetime(df3['DateOfRegistration'], unit='ns')"
   ]
  },
  {
   "cell_type": "code",
   "execution_count": 28,
   "metadata": {
    "colab": {
     "base_uri": "https://localhost:8080/"
    },
    "id": "vpJTnZhZygR-",
    "outputId": "aa528c1e-741f-4c1d-8a3f-5dac67e04c0f"
   },
   "outputs": [
    {
     "data": {
      "text/plain": [
       "dtype('<M8[ns]')"
      ]
     },
     "execution_count": 28,
     "metadata": {
      "tags": []
     },
     "output_type": "execute_result"
    }
   ],
   "source": [
    "df3['DateOfRegistration'].dtypes"
   ]
  },
  {
   "cell_type": "code",
   "execution_count": 29,
   "metadata": {
    "id": "7cmLVVaqygR_"
   },
   "outputs": [],
   "source": [
    "column_datatypes = df3.dtypes\n",
    "categorical_columns = list(column_datatypes[column_datatypes==\"object\"].index.values)\n",
    "continuous_columns = list(column_datatypes[column_datatypes==\"int64\"].index.values)\n"
   ]
  },
  {
   "cell_type": "code",
   "execution_count": 30,
   "metadata": {
    "colab": {
     "base_uri": "https://localhost:8080/"
    },
    "id": "ip7PBuj8eNln",
    "outputId": "325fba74-7063-455a-dc23-610473c06dd3"
   },
   "outputs": [
    {
     "data": {
      "text/plain": [
       "['CustomerID',\n",
       " 'City',\n",
       " 'PreferredDeliveryDay',\n",
       " 'RetentionPotential',\n",
       " 'EmailType',\n",
       " 'MailOpened',\n",
       " 'MailClicked']"
      ]
     },
     "execution_count": 30,
     "metadata": {
      "tags": []
     },
     "output_type": "execute_result"
    }
   ],
   "source": [
    "categorical_columns"
   ]
  },
  {
   "cell_type": "code",
   "execution_count": 31,
   "metadata": {
    "colab": {
     "base_uri": "https://localhost:8080/"
    },
    "id": "_OMJeh4weNoy",
    "outputId": "eab4b819-7ef1-4081-83fc-a984ebfb636c"
   },
   "outputs": [
    {
     "data": {
      "text/plain": [
       "CITY2    1861389\n",
       "CITY4    1375671\n",
       "CITY3     507627\n",
       "CITY1     138782\n",
       "Name: City, dtype: int64"
      ]
     },
     "execution_count": 31,
     "metadata": {
      "tags": []
     },
     "output_type": "execute_result"
    }
   ],
   "source": [
    "df3[categorical_columns[1]].value_counts()"
   ]
  },
  {
   "cell_type": "code",
   "execution_count": 32,
   "metadata": {
    "colab": {
     "base_uri": "https://localhost:8080/"
    },
    "id": "OOGuZ_CseNsT",
    "outputId": "b73a71b7-c9cd-4be9-dad2-0d1cc4d23a90"
   },
   "outputs": [
    {
     "data": {
      "text/plain": [
       "Monday       1134781\n",
       "Tuesday       872469\n",
       "Friday        636482\n",
       "Thursday      589881\n",
       "Wednesday     555447\n",
       "Saturday       79989\n",
       "Sunday         14420\n",
       "Name: PreferredDeliveryDay, dtype: int64"
      ]
     },
     "execution_count": 32,
     "metadata": {
      "tags": []
     },
     "output_type": "execute_result"
    }
   ],
   "source": [
    "df3[categorical_columns[2]].value_counts()"
   ]
  },
  {
   "cell_type": "code",
   "execution_count": 33,
   "metadata": {
    "colab": {
     "base_uri": "https://localhost:8080/"
    },
    "id": "2uHvzpCOygSE",
    "outputId": "cbec9442-5b92-414a-9b79-6259d23f8c7f"
   },
   "outputs": [
    {
     "data": {
      "text/plain": [
       "Low       3781183\n",
       "Medium      82345\n",
       "High        19941\n",
       "Name: RetentionPotential, dtype: int64"
      ]
     },
     "execution_count": 33,
     "metadata": {
      "tags": []
     },
     "output_type": "execute_result"
    }
   ],
   "source": [
    "df3[categorical_columns[3]].value_counts()"
   ]
  },
  {
   "cell_type": "code",
   "execution_count": 34,
   "metadata": {
    "colab": {
     "base_uri": "https://localhost:8080/"
    },
    "id": "Z7D9qi7QygSE",
    "outputId": "02c3ae79-b0e7-49d8-fd01-57d1eabc0d00"
   },
   "outputs": [
    {
     "data": {
      "text/plain": [
       "CustomizedEmail    3778714\n",
       "WelcomeEmail        104755\n",
       "Name: EmailType, dtype: int64"
      ]
     },
     "execution_count": 34,
     "metadata": {
      "tags": []
     },
     "output_type": "execute_result"
    }
   ],
   "source": [
    "df3[categorical_columns[4]].value_counts()"
   ]
  },
  {
   "cell_type": "code",
   "execution_count": 35,
   "metadata": {
    "colab": {
     "base_uri": "https://localhost:8080/"
    },
    "id": "gwWlHHFZygSF",
    "outputId": "9495f20d-b6af-4110-f87f-aa76a413bf2a"
   },
   "outputs": [
    {
     "data": {
      "text/plain": [
       "RetentionPotential  EmailType      \n",
       "High                CustomizedEmail      14791\n",
       "                    WelcomeEmail          5150\n",
       "Low                 CustomizedEmail    3693684\n",
       "                    WelcomeEmail         87499\n",
       "Medium              CustomizedEmail      70239\n",
       "                    WelcomeEmail         12106\n",
       "Name: CustomerID, dtype: int64"
      ]
     },
     "execution_count": 35,
     "metadata": {
      "tags": []
     },
     "output_type": "execute_result"
    }
   ],
   "source": [
    "df3.groupby(['RetentionPotential','EmailType'])['CustomerID'].count()"
   ]
  },
  {
   "cell_type": "code",
   "execution_count": 36,
   "metadata": {
    "colab": {
     "base_uri": "https://localhost:8080/"
    },
    "id": "RpvyuWB-ygSG",
    "outputId": "c2f4ac5f-ad9d-457f-c7ad-bf7ff2a15967"
   },
   "outputs": [
    {
     "data": {
      "text/plain": [
       "no     2511192\n",
       "yes    1372277\n",
       "Name: MailOpened, dtype: int64"
      ]
     },
     "execution_count": 36,
     "metadata": {
      "tags": []
     },
     "output_type": "execute_result"
    }
   ],
   "source": [
    "df3[categorical_columns[5]].value_counts()"
   ]
  },
  {
   "cell_type": "code",
   "execution_count": 37,
   "metadata": {
    "colab": {
     "base_uri": "https://localhost:8080/"
    },
    "id": "XLAx3rqjygSG",
    "outputId": "ff7bcc1c-0d40-4c6c-b186-71ad03be4bdc"
   },
   "outputs": [
    {
     "data": {
      "text/plain": [
       "no               3481233\n",
       "yes               297481\n",
       "NotApplicable     104755\n",
       "Name: MailClicked, dtype: int64"
      ]
     },
     "execution_count": 37,
     "metadata": {
      "tags": []
     },
     "output_type": "execute_result"
    }
   ],
   "source": [
    "df3[categorical_columns[6]].value_counts()"
   ]
  },
  {
   "cell_type": "code",
   "execution_count": 38,
   "metadata": {
    "colab": {
     "base_uri": "https://localhost:8080/"
    },
    "id": "NhzeDna2aQI6",
    "outputId": "e46c3fd4-7484-455e-f893-1209083ed225"
   },
   "outputs": [
    {
     "data": {
      "text/plain": [
       "RetentionPotential  EmailType        MailOpened\n",
       "High                CustomizedEmail  no              10197\n",
       "                                     yes              4594\n",
       "                    WelcomeEmail     yes              5150\n",
       "Low                 CustomizedEmail  no            2458056\n",
       "                                     yes           1235628\n",
       "                    WelcomeEmail     yes             87499\n",
       "Medium              CustomizedEmail  no              42939\n",
       "                                     yes             27300\n",
       "                    WelcomeEmail     yes             12106\n",
       "Name: CustomerID, dtype: int64"
      ]
     },
     "execution_count": 38,
     "metadata": {
      "tags": []
     },
     "output_type": "execute_result"
    }
   ],
   "source": [
    "df3.groupby(['RetentionPotential','EmailType','MailOpened'])['CustomerID'].count()"
   ]
  },
  {
   "cell_type": "code",
   "execution_count": 39,
   "metadata": {
    "colab": {
     "base_uri": "https://localhost:8080/"
    },
    "id": "La8wXJpEygSH",
    "outputId": "2ca86b7a-8bff-4ed7-9d49-ad5c98088607",
    "scrolled": true
   },
   "outputs": [
    {
     "data": {
      "text/plain": [
       "RetentionPotential  EmailType        MailOpened  MailClicked  \n",
       "High                CustomizedEmail  no          no                 10187\n",
       "                                                 yes                   10\n",
       "                                     yes         no                  3771\n",
       "                                                 yes                  823\n",
       "                    WelcomeEmail     yes         NotApplicable       5150\n",
       "Low                 CustomizedEmail  no          no               2456864\n",
       "                                                 yes                 1192\n",
       "                                     yes         no                945059\n",
       "                                                 yes               290569\n",
       "                    WelcomeEmail     yes         NotApplicable      87499\n",
       "Medium              CustomizedEmail  no          no                 42913\n",
       "                                                 yes                   26\n",
       "                                     yes         no                 22439\n",
       "                                                 yes                 4861\n",
       "                    WelcomeEmail     yes         NotApplicable      12106\n",
       "Name: CustomerID, dtype: int64"
      ]
     },
     "execution_count": 39,
     "metadata": {
      "tags": []
     },
     "output_type": "execute_result"
    }
   ],
   "source": [
    "df3.groupby(['RetentionPotential','EmailType','MailOpened','MailClicked'])['CustomerID'].count()"
   ]
  },
  {
   "cell_type": "code",
   "execution_count": 40,
   "metadata": {
    "colab": {
     "base_uri": "https://localhost:8080/"
    },
    "id": "PF3d3wNMygSI",
    "outputId": "364b54bf-a139-4dba-a02b-d166b745f904"
   },
   "outputs": [
    {
     "data": {
      "text/plain": [
       "RetentionPotential  EmailType        MailOpened  MailClicked\n",
       "High                CustomizedEmail  no          no               10187\n",
       "                                     yes         no                3771\n",
       "Low                 CustomizedEmail  no          no             2456864\n",
       "                                     yes         no              945059\n",
       "Medium              CustomizedEmail  no          no               42913\n",
       "                                     yes         no               22439\n",
       "Name: CustomerID, dtype: int64"
      ]
     },
     "execution_count": 40,
     "metadata": {
      "tags": []
     },
     "output_type": "execute_result"
    }
   ],
   "source": [
    "df3[df3['MailClicked']=='no'].groupby(['RetentionPotential','EmailType','MailOpened','MailClicked'])['CustomerID'].count()"
   ]
  },
  {
   "cell_type": "code",
   "execution_count": 41,
   "metadata": {
    "colab": {
     "base_uri": "https://localhost:8080/"
    },
    "id": "MlsFwzZjygSI",
    "outputId": "c3734a22-b622-4d5f-98a4-efec2b7be3f3"
   },
   "outputs": [
    {
     "data": {
      "text/plain": [
       "RetentionPotential  EmailType        MailOpened  MailClicked\n",
       "High                CustomizedEmail  no          yes                10\n",
       "                                     yes         yes               823\n",
       "Low                 CustomizedEmail  no          yes              1192\n",
       "                                     yes         yes            290569\n",
       "Medium              CustomizedEmail  no          yes                26\n",
       "                                     yes         yes              4861\n",
       "Name: CustomerID, dtype: int64"
      ]
     },
     "execution_count": 41,
     "metadata": {
      "tags": []
     },
     "output_type": "execute_result"
    }
   ],
   "source": [
    "df3[df3['MailClicked']=='yes'].groupby(['RetentionPotential','EmailType','MailOpened','MailClicked'])['CustomerID'].count()"
   ]
  },
  {
   "cell_type": "code",
   "execution_count": 42,
   "metadata": {
    "colab": {
     "base_uri": "https://localhost:8080/"
    },
    "id": "AQo0ceOhygSJ",
    "outputId": "775d2d79-db0e-43c0-ae52-421cc6a8d133"
   },
   "outputs": [
    {
     "data": {
      "text/plain": [
       "RetentionPotential  EmailType     MailOpened  MailClicked  \n",
       "High                WelcomeEmail  yes         NotApplicable     5150\n",
       "Low                 WelcomeEmail  yes         NotApplicable    87499\n",
       "Medium              WelcomeEmail  yes         NotApplicable    12106\n",
       "Name: CustomerID, dtype: int64"
      ]
     },
     "execution_count": 42,
     "metadata": {
      "tags": []
     },
     "output_type": "execute_result"
    }
   ],
   "source": [
    "df3[df3['MailClicked']=='NotApplicable'].groupby(['RetentionPotential','EmailType','MailOpened','MailClicked'])['CustomerID'].count()"
   ]
  },
  {
   "cell_type": "code",
   "execution_count": 43,
   "metadata": {
    "id": "_nm0HBe5ygSJ"
   },
   "outputs": [],
   "source": [
    "df3['MailClicked'] = np.where(df3['MailClicked']==\"NotApplicable\", \"yes\",df3['MailClicked'])"
   ]
  },
  {
   "cell_type": "code",
   "execution_count": 44,
   "metadata": {
    "colab": {
     "base_uri": "https://localhost:8080/"
    },
    "id": "OR2-L_aTygSJ",
    "outputId": "f5fdc759-e8f9-4b97-b690-f538a5aa4a1c"
   },
   "outputs": [
    {
     "data": {
      "text/plain": [
       "array(['yes', 'no'], dtype=object)"
      ]
     },
     "execution_count": 44,
     "metadata": {
      "tags": []
     },
     "output_type": "execute_result"
    }
   ],
   "source": [
    "df3['MailClicked'].unique()"
   ]
  },
  {
   "cell_type": "code",
   "execution_count": 45,
   "metadata": {
    "colab": {
     "base_uri": "https://localhost:8080/"
    },
    "id": "n03-ga1-ygSK",
    "outputId": "a1507c33-4014-4ba5-ee4d-2e3f9b0d296c"
   },
   "outputs": [
    {
     "data": {
      "text/plain": [
       "RetentionPotential  EmailType        MailOpened  MailClicked\n",
       "High                CustomizedEmail  no          no               10187\n",
       "                                                 yes                 10\n",
       "                                     yes         no                3771\n",
       "                                                 yes                823\n",
       "                    WelcomeEmail     yes         yes               5150\n",
       "Low                 CustomizedEmail  no          no             2456864\n",
       "                                                 yes               1192\n",
       "                                     yes         no              945059\n",
       "                                                 yes             290569\n",
       "                    WelcomeEmail     yes         yes              87499\n",
       "Medium              CustomizedEmail  no          no               42913\n",
       "                                                 yes                 26\n",
       "                                     yes         no               22439\n",
       "                                                 yes               4861\n",
       "                    WelcomeEmail     yes         yes              12106\n",
       "Name: CustomerID, dtype: int64"
      ]
     },
     "execution_count": 45,
     "metadata": {
      "tags": []
     },
     "output_type": "execute_result"
    }
   ],
   "source": [
    "df3.groupby(['RetentionPotential','EmailType','MailOpened','MailClicked'])['CustomerID'].count()"
   ]
  },
  {
   "cell_type": "code",
   "execution_count": 46,
   "metadata": {
    "id": "WRnGQER2ygSK"
   },
   "outputs": [],
   "source": [
    "df3['MailClicked'] = np.where((df3['MailOpened']==\"yes\") & (df3['MailClicked']==\"no\"), \"yes\",df3['MailClicked'])"
   ]
  },
  {
   "cell_type": "code",
   "execution_count": 47,
   "metadata": {
    "colab": {
     "base_uri": "https://localhost:8080/"
    },
    "id": "fBrY9aQ6ygSL",
    "outputId": "b6b62b72-c979-4568-8eb6-c85b1294d93b"
   },
   "outputs": [
    {
     "data": {
      "text/plain": [
       "RetentionPotential  EmailType        MailOpened  MailClicked\n",
       "High                CustomizedEmail  no          no               10187\n",
       "                                                 yes                 10\n",
       "                                     yes         yes               4594\n",
       "                    WelcomeEmail     yes         yes               5150\n",
       "Low                 CustomizedEmail  no          no             2456864\n",
       "                                                 yes               1192\n",
       "                                     yes         yes            1235628\n",
       "                    WelcomeEmail     yes         yes              87499\n",
       "Medium              CustomizedEmail  no          no               42913\n",
       "                                                 yes                 26\n",
       "                                     yes         yes              27300\n",
       "                    WelcomeEmail     yes         yes              12106\n",
       "Name: CustomerID, dtype: int64"
      ]
     },
     "execution_count": 47,
     "metadata": {
      "tags": []
     },
     "output_type": "execute_result"
    }
   ],
   "source": [
    "df3.groupby(['RetentionPotential','EmailType','MailOpened','MailClicked'])['CustomerID'].count()"
   ]
  },
  {
   "cell_type": "code",
   "execution_count": 48,
   "metadata": {
    "colab": {
     "base_uri": "https://localhost:8080/"
    },
    "id": "is2gz7YUygSL",
    "outputId": "2252f95a-4718-4c9b-f869-f2af531108de"
   },
   "outputs": [
    {
     "data": {
      "text/plain": [
       "dtype('<M8[ns]')"
      ]
     },
     "execution_count": 48,
     "metadata": {
      "tags": []
     },
     "output_type": "execute_result"
    }
   ],
   "source": [
    "df3.DateOfRegistration.dtype"
   ]
  },
  {
   "cell_type": "code",
   "execution_count": 49,
   "metadata": {
    "colab": {
     "base_uri": "https://localhost:8080/"
    },
    "id": "UyE67PVF_QYl",
    "outputId": "01e0d1bd-06c9-40c5-c176-9be6765ce96f"
   },
   "outputs": [
    {
     "name": "stderr",
     "output_type": "stream",
     "text": [
      "/usr/local/lib/python3.7/dist-packages/ipykernel_launcher.py:4: FutureWarning: Series.dt.weekofyear and Series.dt.week have been deprecated.  Please use Series.dt.isocalendar().week instead.\n",
      "  after removing the cwd from sys.path.\n",
      "/usr/local/lib/python3.7/dist-packages/ipykernel_launcher.py:14: FutureWarning: Series.dt.weekofyear and Series.dt.week have been deprecated.  Please use Series.dt.isocalendar().week instead.\n",
      "  \n",
      "/usr/local/lib/python3.7/dist-packages/ipykernel_launcher.py:24: FutureWarning: Series.dt.weekofyear and Series.dt.week have been deprecated.  Please use Series.dt.isocalendar().week instead.\n"
     ]
    }
   ],
   "source": [
    "if 'DateOfRegistration' in df3.columns:\n",
    "  df3['registration_year'] = df3['DateOfRegistration'].dt.year\n",
    "  df3['registration_month'] = df3['DateOfRegistration'].dt.month\n",
    "  df3['registration_week'] = df3['DateOfRegistration'].dt.week\n",
    "  df3['registration_day'] = df3['DateOfRegistration'].dt.day\n",
    "  df3['registration_hour'] = df3['DateOfRegistration'].dt.hour\n",
    "  df3['registration_minute'] = df3['DateOfRegistration'].dt.minute\n",
    "  df3['registration_weekday'] = df3['DateOfRegistration'].dt.weekday\n",
    "  del df3['DateOfRegistration']\n",
    "\n",
    "if 'DateOfOrder' in df3.columns:\n",
    "  df3['Order_year'] = df3['DateOfOrder'].dt.year\n",
    "  df3['Order_month'] = df3['DateOfOrder'].dt.month\n",
    "  df3['Order_week'] = df3['DateOfOrder'].dt.week\n",
    "  df3['Order_day'] = df3['DateOfOrder'].dt.day\n",
    "  df3['Order_hour'] = df3['DateOfOrder'].dt.hour\n",
    "  df3['Order_minute'] = df3['DateOfOrder'].dt.minute\n",
    "  df3['Order_weekday'] = df3['DateOfOrder'].dt.weekday\n",
    "  del df3['DateOfOrder']\n",
    "\n",
    "if 'DateOfemail' in df3.columns:\n",
    "  df3['Email_year'] = df3['DateOfemail'].dt.year\n",
    "  df3['Email_month'] = df3['DateOfemail'].dt.month\n",
    "  df3['Email_week'] = df3['DateOfemail'].dt.week\n",
    "  df3['Email_day'] = df3['DateOfemail'].dt.day\n",
    "  df3['Email_hour'] = df3['DateOfemail'].dt.hour\n",
    "  df3['Email_minute'] = df3['DateOfemail'].dt.minute\n",
    "  df3['Email_weekday'] = df3['DateOfemail'].dt.weekday\n",
    "  del df3['DateOfemail']"
   ]
  },
  {
   "cell_type": "code",
   "execution_count": 50,
   "metadata": {
    "colab": {
     "base_uri": "https://localhost:8080/",
     "height": 224
    },
    "id": "u5Q4mMtDygSM",
    "outputId": "74a60b0c-56f0-45b3-ce0b-b1bbe7d0a9c4"
   },
   "outputs": [
    {
     "data": {
      "text/html": [
       "<div>\n",
       "<style scoped>\n",
       "    .dataframe tbody tr th:only-of-type {\n",
       "        vertical-align: middle;\n",
       "    }\n",
       "\n",
       "    .dataframe tbody tr th {\n",
       "        vertical-align: top;\n",
       "    }\n",
       "\n",
       "    .dataframe thead th {\n",
       "        text-align: right;\n",
       "    }\n",
       "</style>\n",
       "<table border=\"1\" class=\"dataframe\">\n",
       "  <thead>\n",
       "    <tr style=\"text-align: right;\">\n",
       "      <th></th>\n",
       "      <th>CustomerID</th>\n",
       "      <th>City</th>\n",
       "      <th>OnlineCommunication</th>\n",
       "      <th>AutomaticRefill</th>\n",
       "      <th>DoorstepDelivery</th>\n",
       "      <th>PreferredDeliveryDay</th>\n",
       "      <th>RetentionPotential</th>\n",
       "      <th>EmailType</th>\n",
       "      <th>MailOpened</th>\n",
       "      <th>MailClicked</th>\n",
       "      <th>OrderQuantity</th>\n",
       "      <th>registration_year</th>\n",
       "      <th>registration_month</th>\n",
       "      <th>registration_week</th>\n",
       "      <th>registration_day</th>\n",
       "      <th>registration_hour</th>\n",
       "      <th>registration_minute</th>\n",
       "      <th>registration_weekday</th>\n",
       "      <th>Order_year</th>\n",
       "      <th>Order_month</th>\n",
       "      <th>Order_week</th>\n",
       "      <th>Order_day</th>\n",
       "      <th>Order_hour</th>\n",
       "      <th>Order_minute</th>\n",
       "      <th>Order_weekday</th>\n",
       "      <th>Email_year</th>\n",
       "      <th>Email_month</th>\n",
       "      <th>Email_week</th>\n",
       "      <th>Email_day</th>\n",
       "      <th>Email_hour</th>\n",
       "      <th>Email_minute</th>\n",
       "      <th>Email_weekday</th>\n",
       "    </tr>\n",
       "  </thead>\n",
       "  <tbody>\n",
       "    <tr>\n",
       "      <th>0</th>\n",
       "      <td>C16368</td>\n",
       "      <td>CITY2</td>\n",
       "      <td>0</td>\n",
       "      <td>0</td>\n",
       "      <td>0</td>\n",
       "      <td>Monday</td>\n",
       "      <td>High</td>\n",
       "      <td>WelcomeEmail</td>\n",
       "      <td>yes</td>\n",
       "      <td>yes</td>\n",
       "      <td>15.0</td>\n",
       "      <td>2012</td>\n",
       "      <td>9</td>\n",
       "      <td>39</td>\n",
       "      <td>28</td>\n",
       "      <td>0</td>\n",
       "      <td>0</td>\n",
       "      <td>4</td>\n",
       "      <td>2013</td>\n",
       "      <td>8</td>\n",
       "      <td>32</td>\n",
       "      <td>11</td>\n",
       "      <td>15</td>\n",
       "      <td>56</td>\n",
       "      <td>6</td>\n",
       "      <td>2012</td>\n",
       "      <td>9</td>\n",
       "      <td>39</td>\n",
       "      <td>28</td>\n",
       "      <td>15</td>\n",
       "      <td>17</td>\n",
       "      <td>4</td>\n",
       "    </tr>\n",
       "    <tr>\n",
       "      <th>1</th>\n",
       "      <td>C16368</td>\n",
       "      <td>CITY2</td>\n",
       "      <td>0</td>\n",
       "      <td>0</td>\n",
       "      <td>0</td>\n",
       "      <td>Monday</td>\n",
       "      <td>High</td>\n",
       "      <td>CustomizedEmail</td>\n",
       "      <td>yes</td>\n",
       "      <td>yes</td>\n",
       "      <td>15.0</td>\n",
       "      <td>2012</td>\n",
       "      <td>9</td>\n",
       "      <td>39</td>\n",
       "      <td>28</td>\n",
       "      <td>0</td>\n",
       "      <td>0</td>\n",
       "      <td>4</td>\n",
       "      <td>2013</td>\n",
       "      <td>8</td>\n",
       "      <td>32</td>\n",
       "      <td>11</td>\n",
       "      <td>15</td>\n",
       "      <td>10</td>\n",
       "      <td>6</td>\n",
       "      <td>2013</td>\n",
       "      <td>5</td>\n",
       "      <td>21</td>\n",
       "      <td>20</td>\n",
       "      <td>15</td>\n",
       "      <td>17</td>\n",
       "      <td>0</td>\n",
       "    </tr>\n",
       "    <tr>\n",
       "      <th>2</th>\n",
       "      <td>C16368</td>\n",
       "      <td>CITY2</td>\n",
       "      <td>0</td>\n",
       "      <td>0</td>\n",
       "      <td>0</td>\n",
       "      <td>Monday</td>\n",
       "      <td>High</td>\n",
       "      <td>CustomizedEmail</td>\n",
       "      <td>yes</td>\n",
       "      <td>yes</td>\n",
       "      <td>15.0</td>\n",
       "      <td>2012</td>\n",
       "      <td>9</td>\n",
       "      <td>39</td>\n",
       "      <td>28</td>\n",
       "      <td>0</td>\n",
       "      <td>0</td>\n",
       "      <td>4</td>\n",
       "      <td>2013</td>\n",
       "      <td>8</td>\n",
       "      <td>32</td>\n",
       "      <td>11</td>\n",
       "      <td>13</td>\n",
       "      <td>54</td>\n",
       "      <td>6</td>\n",
       "      <td>2013</td>\n",
       "      <td>2</td>\n",
       "      <td>6</td>\n",
       "      <td>5</td>\n",
       "      <td>15</td>\n",
       "      <td>17</td>\n",
       "      <td>1</td>\n",
       "    </tr>\n",
       "    <tr>\n",
       "      <th>3</th>\n",
       "      <td>C16368</td>\n",
       "      <td>CITY2</td>\n",
       "      <td>0</td>\n",
       "      <td>0</td>\n",
       "      <td>0</td>\n",
       "      <td>Monday</td>\n",
       "      <td>High</td>\n",
       "      <td>CustomizedEmail</td>\n",
       "      <td>yes</td>\n",
       "      <td>yes</td>\n",
       "      <td>15.0</td>\n",
       "      <td>2012</td>\n",
       "      <td>9</td>\n",
       "      <td>39</td>\n",
       "      <td>28</td>\n",
       "      <td>0</td>\n",
       "      <td>0</td>\n",
       "      <td>4</td>\n",
       "      <td>2013</td>\n",
       "      <td>8</td>\n",
       "      <td>32</td>\n",
       "      <td>11</td>\n",
       "      <td>11</td>\n",
       "      <td>22</td>\n",
       "      <td>6</td>\n",
       "      <td>2012</td>\n",
       "      <td>11</td>\n",
       "      <td>48</td>\n",
       "      <td>26</td>\n",
       "      <td>15</td>\n",
       "      <td>17</td>\n",
       "      <td>0</td>\n",
       "    </tr>\n",
       "    <tr>\n",
       "      <th>4</th>\n",
       "      <td>C16368</td>\n",
       "      <td>CITY2</td>\n",
       "      <td>0</td>\n",
       "      <td>0</td>\n",
       "      <td>0</td>\n",
       "      <td>Monday</td>\n",
       "      <td>High</td>\n",
       "      <td>CustomizedEmail</td>\n",
       "      <td>yes</td>\n",
       "      <td>yes</td>\n",
       "      <td>15.0</td>\n",
       "      <td>2012</td>\n",
       "      <td>9</td>\n",
       "      <td>39</td>\n",
       "      <td>28</td>\n",
       "      <td>0</td>\n",
       "      <td>0</td>\n",
       "      <td>4</td>\n",
       "      <td>2013</td>\n",
       "      <td>8</td>\n",
       "      <td>32</td>\n",
       "      <td>11</td>\n",
       "      <td>14</td>\n",
       "      <td>4</td>\n",
       "      <td>6</td>\n",
       "      <td>2013</td>\n",
       "      <td>5</td>\n",
       "      <td>22</td>\n",
       "      <td>30</td>\n",
       "      <td>15</td>\n",
       "      <td>17</td>\n",
       "      <td>3</td>\n",
       "    </tr>\n",
       "  </tbody>\n",
       "</table>\n",
       "</div>"
      ],
      "text/plain": [
       "  CustomerID   City  ...  Email_minute  Email_weekday\n",
       "0     C16368  CITY2  ...            17              4\n",
       "1     C16368  CITY2  ...            17              0\n",
       "2     C16368  CITY2  ...            17              1\n",
       "3     C16368  CITY2  ...            17              0\n",
       "4     C16368  CITY2  ...            17              3\n",
       "\n",
       "[5 rows x 32 columns]"
      ]
     },
     "execution_count": 50,
     "metadata": {
      "tags": []
     },
     "output_type": "execute_result"
    }
   ],
   "source": [
    "df3.head()"
   ]
  },
  {
   "cell_type": "code",
   "execution_count": 57,
   "metadata": {
    "colab": {
     "base_uri": "https://localhost:8080/"
    },
    "id": "kpZvJcScygSM",
    "outputId": "ca05e3d9-83ea-4208-98cb-36523fae7850"
   },
   "outputs": [
    {
     "data": {
      "text/plain": [
       "(3883469, 32)"
      ]
     },
     "execution_count": 57,
     "metadata": {
      "tags": []
     },
     "output_type": "execute_result"
    }
   ],
   "source": [
    "df3.shape"
   ]
  },
  {
   "cell_type": "code",
   "execution_count": 57,
   "metadata": {
    "id": "GvmCpoyLygSN"
   },
   "outputs": [],
   "source": []
  },
  {
   "cell_type": "code",
   "execution_count": 58,
   "metadata": {
    "colab": {
     "base_uri": "https://localhost:8080/",
     "height": 224
    },
    "id": "QaJe1ZYNygSN",
    "outputId": "b9dc7875-ab35-4b7c-c37b-3318fb8967f1"
   },
   "outputs": [
    {
     "data": {
      "text/html": [
       "<div>\n",
       "<style scoped>\n",
       "    .dataframe tbody tr th:only-of-type {\n",
       "        vertical-align: middle;\n",
       "    }\n",
       "\n",
       "    .dataframe tbody tr th {\n",
       "        vertical-align: top;\n",
       "    }\n",
       "\n",
       "    .dataframe thead th {\n",
       "        text-align: right;\n",
       "    }\n",
       "</style>\n",
       "<table border=\"1\" class=\"dataframe\">\n",
       "  <thead>\n",
       "    <tr style=\"text-align: right;\">\n",
       "      <th></th>\n",
       "      <th>CustomerID</th>\n",
       "      <th>City</th>\n",
       "      <th>OnlineCommunication</th>\n",
       "      <th>AutomaticRefill</th>\n",
       "      <th>DoorstepDelivery</th>\n",
       "      <th>PreferredDeliveryDay</th>\n",
       "      <th>RetentionPotential</th>\n",
       "      <th>EmailType</th>\n",
       "      <th>MailOpened</th>\n",
       "      <th>MailClicked</th>\n",
       "      <th>OrderQuantity</th>\n",
       "      <th>registration_year</th>\n",
       "      <th>registration_month</th>\n",
       "      <th>registration_week</th>\n",
       "      <th>registration_day</th>\n",
       "      <th>registration_hour</th>\n",
       "      <th>registration_minute</th>\n",
       "      <th>registration_weekday</th>\n",
       "      <th>Order_year</th>\n",
       "      <th>Order_month</th>\n",
       "      <th>Order_week</th>\n",
       "      <th>Order_day</th>\n",
       "      <th>Order_hour</th>\n",
       "      <th>Order_minute</th>\n",
       "      <th>Order_weekday</th>\n",
       "      <th>Email_year</th>\n",
       "      <th>Email_month</th>\n",
       "      <th>Email_week</th>\n",
       "      <th>Email_day</th>\n",
       "      <th>Email_hour</th>\n",
       "      <th>Email_minute</th>\n",
       "      <th>Email_weekday</th>\n",
       "    </tr>\n",
       "  </thead>\n",
       "  <tbody>\n",
       "    <tr>\n",
       "      <th>0</th>\n",
       "      <td>C16368</td>\n",
       "      <td>CITY2</td>\n",
       "      <td>0</td>\n",
       "      <td>0</td>\n",
       "      <td>0</td>\n",
       "      <td>Monday</td>\n",
       "      <td>High</td>\n",
       "      <td>WelcomeEmail</td>\n",
       "      <td>yes</td>\n",
       "      <td>yes</td>\n",
       "      <td>15.0</td>\n",
       "      <td>2012</td>\n",
       "      <td>9</td>\n",
       "      <td>39</td>\n",
       "      <td>28</td>\n",
       "      <td>0</td>\n",
       "      <td>0</td>\n",
       "      <td>4</td>\n",
       "      <td>2013</td>\n",
       "      <td>8</td>\n",
       "      <td>32</td>\n",
       "      <td>11</td>\n",
       "      <td>15</td>\n",
       "      <td>56</td>\n",
       "      <td>6</td>\n",
       "      <td>2012</td>\n",
       "      <td>9</td>\n",
       "      <td>39</td>\n",
       "      <td>28</td>\n",
       "      <td>15</td>\n",
       "      <td>17</td>\n",
       "      <td>4</td>\n",
       "    </tr>\n",
       "    <tr>\n",
       "      <th>1</th>\n",
       "      <td>C16368</td>\n",
       "      <td>CITY2</td>\n",
       "      <td>0</td>\n",
       "      <td>0</td>\n",
       "      <td>0</td>\n",
       "      <td>Monday</td>\n",
       "      <td>High</td>\n",
       "      <td>CustomizedEmail</td>\n",
       "      <td>yes</td>\n",
       "      <td>yes</td>\n",
       "      <td>15.0</td>\n",
       "      <td>2012</td>\n",
       "      <td>9</td>\n",
       "      <td>39</td>\n",
       "      <td>28</td>\n",
       "      <td>0</td>\n",
       "      <td>0</td>\n",
       "      <td>4</td>\n",
       "      <td>2013</td>\n",
       "      <td>8</td>\n",
       "      <td>32</td>\n",
       "      <td>11</td>\n",
       "      <td>15</td>\n",
       "      <td>10</td>\n",
       "      <td>6</td>\n",
       "      <td>2013</td>\n",
       "      <td>5</td>\n",
       "      <td>21</td>\n",
       "      <td>20</td>\n",
       "      <td>15</td>\n",
       "      <td>17</td>\n",
       "      <td>0</td>\n",
       "    </tr>\n",
       "    <tr>\n",
       "      <th>2</th>\n",
       "      <td>C16368</td>\n",
       "      <td>CITY2</td>\n",
       "      <td>0</td>\n",
       "      <td>0</td>\n",
       "      <td>0</td>\n",
       "      <td>Monday</td>\n",
       "      <td>High</td>\n",
       "      <td>CustomizedEmail</td>\n",
       "      <td>yes</td>\n",
       "      <td>yes</td>\n",
       "      <td>15.0</td>\n",
       "      <td>2012</td>\n",
       "      <td>9</td>\n",
       "      <td>39</td>\n",
       "      <td>28</td>\n",
       "      <td>0</td>\n",
       "      <td>0</td>\n",
       "      <td>4</td>\n",
       "      <td>2013</td>\n",
       "      <td>8</td>\n",
       "      <td>32</td>\n",
       "      <td>11</td>\n",
       "      <td>13</td>\n",
       "      <td>54</td>\n",
       "      <td>6</td>\n",
       "      <td>2013</td>\n",
       "      <td>2</td>\n",
       "      <td>6</td>\n",
       "      <td>5</td>\n",
       "      <td>15</td>\n",
       "      <td>17</td>\n",
       "      <td>1</td>\n",
       "    </tr>\n",
       "    <tr>\n",
       "      <th>3</th>\n",
       "      <td>C16368</td>\n",
       "      <td>CITY2</td>\n",
       "      <td>0</td>\n",
       "      <td>0</td>\n",
       "      <td>0</td>\n",
       "      <td>Monday</td>\n",
       "      <td>High</td>\n",
       "      <td>CustomizedEmail</td>\n",
       "      <td>yes</td>\n",
       "      <td>yes</td>\n",
       "      <td>15.0</td>\n",
       "      <td>2012</td>\n",
       "      <td>9</td>\n",
       "      <td>39</td>\n",
       "      <td>28</td>\n",
       "      <td>0</td>\n",
       "      <td>0</td>\n",
       "      <td>4</td>\n",
       "      <td>2013</td>\n",
       "      <td>8</td>\n",
       "      <td>32</td>\n",
       "      <td>11</td>\n",
       "      <td>11</td>\n",
       "      <td>22</td>\n",
       "      <td>6</td>\n",
       "      <td>2012</td>\n",
       "      <td>11</td>\n",
       "      <td>48</td>\n",
       "      <td>26</td>\n",
       "      <td>15</td>\n",
       "      <td>17</td>\n",
       "      <td>0</td>\n",
       "    </tr>\n",
       "    <tr>\n",
       "      <th>4</th>\n",
       "      <td>C16368</td>\n",
       "      <td>CITY2</td>\n",
       "      <td>0</td>\n",
       "      <td>0</td>\n",
       "      <td>0</td>\n",
       "      <td>Monday</td>\n",
       "      <td>High</td>\n",
       "      <td>CustomizedEmail</td>\n",
       "      <td>yes</td>\n",
       "      <td>yes</td>\n",
       "      <td>15.0</td>\n",
       "      <td>2012</td>\n",
       "      <td>9</td>\n",
       "      <td>39</td>\n",
       "      <td>28</td>\n",
       "      <td>0</td>\n",
       "      <td>0</td>\n",
       "      <td>4</td>\n",
       "      <td>2013</td>\n",
       "      <td>8</td>\n",
       "      <td>32</td>\n",
       "      <td>11</td>\n",
       "      <td>14</td>\n",
       "      <td>4</td>\n",
       "      <td>6</td>\n",
       "      <td>2013</td>\n",
       "      <td>5</td>\n",
       "      <td>22</td>\n",
       "      <td>30</td>\n",
       "      <td>15</td>\n",
       "      <td>17</td>\n",
       "      <td>3</td>\n",
       "    </tr>\n",
       "  </tbody>\n",
       "</table>\n",
       "</div>"
      ],
      "text/plain": [
       "  CustomerID   City  ...  Email_minute  Email_weekday\n",
       "0     C16368  CITY2  ...            17              4\n",
       "1     C16368  CITY2  ...            17              0\n",
       "2     C16368  CITY2  ...            17              1\n",
       "3     C16368  CITY2  ...            17              0\n",
       "4     C16368  CITY2  ...            17              3\n",
       "\n",
       "[5 rows x 32 columns]"
      ]
     },
     "execution_count": 58,
     "metadata": {
      "tags": []
     },
     "output_type": "execute_result"
    }
   ],
   "source": [
    "df3.head()"
   ]
  },
  {
   "cell_type": "code",
   "execution_count": 59,
   "metadata": {
    "colab": {
     "base_uri": "https://localhost:8080/"
    },
    "id": "F3tyEjrAygSO",
    "outputId": "21cff7a3-aa78-44af-cd0d-b909d538d6fd"
   },
   "outputs": [
    {
     "name": "stdout",
     "output_type": "stream",
     "text": [
      "<class 'pandas.core.frame.DataFrame'>\n",
      "Int64Index: 3883469 entries, 0 to 3883468\n",
      "Data columns (total 32 columns):\n",
      " #   Column                Dtype  \n",
      "---  ------                -----  \n",
      " 0   CustomerID            object \n",
      " 1   City                  object \n",
      " 2   OnlineCommunication   int64  \n",
      " 3   AutomaticRefill       int64  \n",
      " 4   DoorstepDelivery      int64  \n",
      " 5   PreferredDeliveryDay  object \n",
      " 6   RetentionPotential    object \n",
      " 7   EmailType             object \n",
      " 8   MailOpened            object \n",
      " 9   MailClicked           object \n",
      " 10  OrderQuantity         float64\n",
      " 11  registration_year     int64  \n",
      " 12  registration_month    int64  \n",
      " 13  registration_week     int64  \n",
      " 14  registration_day      int64  \n",
      " 15  registration_hour     int64  \n",
      " 16  registration_minute   int64  \n",
      " 17  registration_weekday  int64  \n",
      " 18  Order_year            int64  \n",
      " 19  Order_month           int64  \n",
      " 20  Order_week            int64  \n",
      " 21  Order_day             int64  \n",
      " 22  Order_hour            int64  \n",
      " 23  Order_minute          int64  \n",
      " 24  Order_weekday         int64  \n",
      " 25  Email_year            int64  \n",
      " 26  Email_month           int64  \n",
      " 27  Email_week            int64  \n",
      " 28  Email_day             int64  \n",
      " 29  Email_hour            int64  \n",
      " 30  Email_minute          int64  \n",
      " 31  Email_weekday         int64  \n",
      "dtypes: float64(1), int64(24), object(7)\n",
      "memory usage: 977.7+ MB\n"
     ]
    }
   ],
   "source": [
    "df3.info()"
   ]
  },
  {
   "cell_type": "code",
   "execution_count": null,
   "metadata": {
    "id": "SayXl4rG-2W4"
   },
   "outputs": [],
   "source": []
  },
  {
   "cell_type": "code",
   "execution_count": null,
   "metadata": {
    "id": "0KuwMC_2-2aM"
   },
   "outputs": [],
   "source": []
  },
  {
   "cell_type": "code",
   "execution_count": null,
   "metadata": {
    "id": "L7H_Ja0Z-2dE"
   },
   "outputs": [],
   "source": []
  },
  {
   "cell_type": "code",
   "execution_count": null,
   "metadata": {
    "id": "15XpKe7z-2fa"
   },
   "outputs": [],
   "source": []
  },
  {
   "cell_type": "code",
   "execution_count": null,
   "metadata": {
    "id": "Ol9JIz-T-2ij"
   },
   "outputs": [],
   "source": []
  },
  {
   "cell_type": "code",
   "execution_count": null,
   "metadata": {
    "id": "YXNiP43R-2lT"
   },
   "outputs": [],
   "source": []
  },
  {
   "cell_type": "code",
   "execution_count": null,
   "metadata": {
    "id": "VdiZY7Hf_Iif"
   },
   "outputs": [],
   "source": [
    "for i in df3.select_dtypes('object').columns:\n",
    "  l_enc = LabelEncoder()\n",
    "  trans_data = l_enc.fit_transform(df3[i])\n",
    "  df3[i] = trans_data"
   ]
  },
  {
   "cell_type": "code",
   "execution_count": null,
   "metadata": {
    "id": "fxfYFsTa-1Ka"
   },
   "outputs": [],
   "source": []
  },
  {
   "cell_type": "code",
   "execution_count": null,
   "metadata": {
    "id": "1r28UqRy-1M1"
   },
   "outputs": [],
   "source": []
  },
  {
   "cell_type": "code",
   "execution_count": null,
   "metadata": {
    "id": "IxxaAVqU-1Pi"
   },
   "outputs": [],
   "source": []
  },
  {
   "cell_type": "code",
   "execution_count": null,
   "metadata": {
    "id": "eX6xFB68-1S1"
   },
   "outputs": [],
   "source": []
  },
  {
   "cell_type": "code",
   "execution_count": null,
   "metadata": {
    "id": "_bpevd9QRODM"
   },
   "outputs": [],
   "source": []
  },
  {
   "cell_type": "code",
   "execution_count": null,
   "metadata": {
    "id": "cVWwGTynRA-N"
   },
   "outputs": [],
   "source": []
  },
  {
   "cell_type": "code",
   "execution_count": null,
   "metadata": {
    "colab": {
     "base_uri": "https://localhost:8080/"
    },
    "id": "AV2Na5yXQDth",
    "outputId": "671194dc-596d-4742-9672-a2a2d8b9b5cd"
   },
   "outputs": [
    {
     "data": {
      "text/plain": [
       "C33945    20240\n",
       "C20345    17856\n",
       "C35549    16030\n",
       "C23978    15300\n",
       "C22536    11224\n",
       "C16810    11092\n",
       "C23174    11055\n",
       "C15455    10860\n",
       "C41705    10804\n",
       "C20197    10494\n",
       "Name: CustomerID, dtype: int64"
      ]
     },
     "execution_count": 40,
     "metadata": {
      "tags": []
     },
     "output_type": "execute_result"
    }
   ],
   "source": [
    "df3['CustomerID'].value_counts()[:10]"
   ]
  },
  {
   "cell_type": "code",
   "execution_count": null,
   "metadata": {
    "id": "QDg_X8XBA6oY"
   },
   "outputs": [],
   "source": [
    "y = df3['RetentionPotential']\n",
    "X = df3.drop(['RetentionPotential'],axis = 1)\n",
    "\n",
    "X_train, X_test, y_train, y_test = train_test_split(X, y, test_size=0.33, random_state=42)"
   ]
  },
  {
   "cell_type": "code",
   "execution_count": null,
   "metadata": {
    "id": "sig8f0alBXdU"
   },
   "outputs": [],
   "source": [
    "model = SVC()"
   ]
  },
  {
   "cell_type": "code",
   "execution_count": null,
   "metadata": {
    "id": "w2WvtBwHBeVp"
   },
   "outputs": [],
   "source": [
    "model.fit(X_train,y_train)"
   ]
  },
  {
   "cell_type": "code",
   "execution_count": null,
   "metadata": {
    "id": "tkBpMEpsBgRx"
   },
   "outputs": [],
   "source": [
    "model.score(X_train,y_train)"
   ]
  },
  {
   "cell_type": "code",
   "execution_count": null,
   "metadata": {
    "id": "zt3wRpOXBico"
   },
   "outputs": [],
   "source": [
    "model.score(X_test,y_test)"
   ]
  },
  {
   "cell_type": "code",
   "execution_count": null,
   "metadata": {
    "id": "Bc5rLPk96-T-"
   },
   "outputs": [],
   "source": []
  }
 ],
 "metadata": {
  "accelerator": "GPU",
  "colab": {
   "name": "Cutomer_retention_(1).ipynb",
   "provenance": []
  },
  "kernelspec": {
   "display_name": "Python 3",
   "language": "python",
   "name": "python3"
  },
  "language_info": {
   "codemirror_mode": {
    "name": "ipython",
    "version": 3
   },
   "file_extension": ".py",
   "mimetype": "text/x-python",
   "name": "python",
   "nbconvert_exporter": "python",
   "pygments_lexer": "ipython3",
   "version": "3.8.8"
  }
 },
 "nbformat": 4,
 "nbformat_minor": 1
}
