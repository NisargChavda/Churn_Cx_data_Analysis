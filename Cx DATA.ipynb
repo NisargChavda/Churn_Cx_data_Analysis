{
 "cells": [
  {
   "cell_type": "code",
   "execution_count": 1,
   "id": "7d579ad5",
   "metadata": {},
   "outputs": [],
   "source": [
    "import pyforest"
   ]
  },
  {
   "cell_type": "code",
   "execution_count": 2,
   "id": "ec6b4aa2",
   "metadata": {},
   "outputs": [
    {
     "data": {
      "application/javascript": [
       "\n",
       "        if (window._pyforest_update_imports_cell) { window._pyforest_update_imports_cell('import pandas as pd'); }\n",
       "    "
      ],
      "text/plain": [
       "<IPython.core.display.Javascript object>"
      ]
     },
     "metadata": {},
     "output_type": "display_data"
    },
    {
     "data": {
      "text/html": [
       "<div>\n",
       "<style scoped>\n",
       "    .dataframe tbody tr th:only-of-type {\n",
       "        vertical-align: middle;\n",
       "    }\n",
       "\n",
       "    .dataframe tbody tr th {\n",
       "        vertical-align: top;\n",
       "    }\n",
       "\n",
       "    .dataframe thead th {\n",
       "        text-align: right;\n",
       "    }\n",
       "</style>\n",
       "<table border=\"1\" class=\"dataframe\">\n",
       "  <thead>\n",
       "    <tr style=\"text-align: right;\">\n",
       "      <th></th>\n",
       "      <th>CustomerID</th>\n",
       "      <th>City</th>\n",
       "      <th>DateOfRegistration</th>\n",
       "      <th>OnlineCommunication</th>\n",
       "      <th>AutomaticRefill</th>\n",
       "      <th>DoorstepDelivery</th>\n",
       "      <th>PreferredDeliveryDay</th>\n",
       "    </tr>\n",
       "  </thead>\n",
       "  <tbody>\n",
       "    <tr>\n",
       "      <th>0</th>\n",
       "      <td>C16368</td>\n",
       "      <td>CITY2</td>\n",
       "      <td>2012-09-28</td>\n",
       "      <td>0</td>\n",
       "      <td>0</td>\n",
       "      <td>0</td>\n",
       "      <td>Monday</td>\n",
       "    </tr>\n",
       "    <tr>\n",
       "      <th>1</th>\n",
       "      <td>C20345</td>\n",
       "      <td>CITY2</td>\n",
       "      <td>2010-12-19</td>\n",
       "      <td>1</td>\n",
       "      <td>1</td>\n",
       "      <td>1</td>\n",
       "      <td>Friday</td>\n",
       "    </tr>\n",
       "    <tr>\n",
       "      <th>2</th>\n",
       "      <td>C17683</td>\n",
       "      <td>CITY2</td>\n",
       "      <td>2010-10-03</td>\n",
       "      <td>0</td>\n",
       "      <td>0</td>\n",
       "      <td>0</td>\n",
       "      <td>Wednesday</td>\n",
       "    </tr>\n",
       "    <tr>\n",
       "      <th>3</th>\n",
       "      <td>C18647</td>\n",
       "      <td>CITY4</td>\n",
       "      <td>2010-11-27</td>\n",
       "      <td>0</td>\n",
       "      <td>0</td>\n",
       "      <td>0</td>\n",
       "      <td>Monday</td>\n",
       "    </tr>\n",
       "    <tr>\n",
       "      <th>4</th>\n",
       "      <td>C36692</td>\n",
       "      <td>CITY2</td>\n",
       "      <td>2009-12-04</td>\n",
       "      <td>1</td>\n",
       "      <td>1</td>\n",
       "      <td>0</td>\n",
       "      <td>Friday</td>\n",
       "    </tr>\n",
       "  </tbody>\n",
       "</table>\n",
       "</div>"
      ],
      "text/plain": [
       "  CustomerID   City DateOfRegistration  OnlineCommunication  AutomaticRefill  \\\n",
       "0     C16368  CITY2         2012-09-28                    0                0   \n",
       "1     C20345  CITY2         2010-12-19                    1                1   \n",
       "2     C17683  CITY2         2010-10-03                    0                0   \n",
       "3     C18647  CITY4         2010-11-27                    0                0   \n",
       "4     C36692  CITY2         2009-12-04                    1                1   \n",
       "\n",
       "   DoorstepDelivery PreferredDeliveryDay  \n",
       "0                 0               Monday  \n",
       "1                 1               Friday  \n",
       "2                 0            Wednesday  \n",
       "3                 0               Monday  \n",
       "4                 0               Friday  "
      ]
     },
     "execution_count": 2,
     "metadata": {},
     "output_type": "execute_result"
    }
   ],
   "source": [
    "cx_df = pd.read_excel('Customerdata_Train.xlsx')\n",
    "cx_df.head()"
   ]
  },
  {
   "cell_type": "code",
   "execution_count": 3,
   "id": "ec1c3af3",
   "metadata": {},
   "outputs": [
    {
     "name": "stdout",
     "output_type": "stream",
     "text": [
      "<class 'pandas.core.frame.DataFrame'>\n",
      "RangeIndex: 23820 entries, 0 to 23819\n",
      "Data columns (total 7 columns):\n",
      " #   Column                Non-Null Count  Dtype         \n",
      "---  ------                --------------  -----         \n",
      " 0   CustomerID            23820 non-null  object        \n",
      " 1   City                  23820 non-null  object        \n",
      " 2   DateOfRegistration    23820 non-null  datetime64[ns]\n",
      " 3   OnlineCommunication   23820 non-null  int64         \n",
      " 4   AutomaticRefill       23820 non-null  int64         \n",
      " 5   DoorstepDelivery      23820 non-null  int64         \n",
      " 6   PreferredDeliveryDay  23820 non-null  object        \n",
      "dtypes: datetime64[ns](1), int64(3), object(3)\n",
      "memory usage: 1.3+ MB\n"
     ]
    },
    {
     "data": {
      "text/plain": [
       "(None, (23820, 7))"
      ]
     },
     "execution_count": 3,
     "metadata": {},
     "output_type": "execute_result"
    }
   ],
   "source": [
    "cx_df.info(), cx_df.shape"
   ]
  },
  {
   "cell_type": "code",
   "execution_count": 4,
   "id": "2890418a",
   "metadata": {},
   "outputs": [
    {
     "data": {
      "application/javascript": [
       "\n",
       "        if (window._pyforest_update_imports_cell) { window._pyforest_update_imports_cell('import pandas as pd'); }\n",
       "    "
      ],
      "text/plain": [
       "<IPython.core.display.Javascript object>"
      ]
     },
     "metadata": {},
     "output_type": "display_data"
    },
    {
     "data": {
      "text/html": [
       "<div>\n",
       "<style scoped>\n",
       "    .dataframe tbody tr th:only-of-type {\n",
       "        vertical-align: middle;\n",
       "    }\n",
       "\n",
       "    .dataframe tbody tr th {\n",
       "        vertical-align: top;\n",
       "    }\n",
       "\n",
       "    .dataframe thead th {\n",
       "        text-align: right;\n",
       "    }\n",
       "</style>\n",
       "<table border=\"1\" class=\"dataframe\">\n",
       "  <thead>\n",
       "    <tr style=\"text-align: right;\">\n",
       "      <th></th>\n",
       "      <th>CustomerID</th>\n",
       "      <th>DateOfemail</th>\n",
       "      <th>EmailType</th>\n",
       "      <th>timestamp</th>\n",
       "      <th>MailOpened</th>\n",
       "      <th>MailClicked</th>\n",
       "    </tr>\n",
       "  </thead>\n",
       "  <tbody>\n",
       "    <tr>\n",
       "      <th>0</th>\n",
       "      <td>C16368</td>\n",
       "      <td>2012-09-28</td>\n",
       "      <td>WelcomeEmail</td>\n",
       "      <td>15:56:50</td>\n",
       "      <td>yes</td>\n",
       "      <td>NotApplicable</td>\n",
       "    </tr>\n",
       "    <tr>\n",
       "      <th>1</th>\n",
       "      <td>C20345</td>\n",
       "      <td>2010-12-19</td>\n",
       "      <td>WelcomeEmail</td>\n",
       "      <td>15:10:30</td>\n",
       "      <td>yes</td>\n",
       "      <td>NotApplicable</td>\n",
       "    </tr>\n",
       "    <tr>\n",
       "      <th>2</th>\n",
       "      <td>C17683</td>\n",
       "      <td>2010-10-03</td>\n",
       "      <td>WelcomeEmail</td>\n",
       "      <td>17:12:24</td>\n",
       "      <td>yes</td>\n",
       "      <td>NotApplicable</td>\n",
       "    </tr>\n",
       "    <tr>\n",
       "      <th>3</th>\n",
       "      <td>C18647</td>\n",
       "      <td>2010-11-27</td>\n",
       "      <td>WelcomeEmail</td>\n",
       "      <td>16:59:02</td>\n",
       "      <td>yes</td>\n",
       "      <td>NotApplicable</td>\n",
       "    </tr>\n",
       "    <tr>\n",
       "      <th>4</th>\n",
       "      <td>C36692</td>\n",
       "      <td>2009-12-04</td>\n",
       "      <td>WelcomeEmail</td>\n",
       "      <td>17:27:22</td>\n",
       "      <td>yes</td>\n",
       "      <td>NotApplicable</td>\n",
       "    </tr>\n",
       "  </tbody>\n",
       "</table>\n",
       "</div>"
      ],
      "text/plain": [
       "  CustomerID DateOfemail     EmailType timestamp MailOpened    MailClicked\n",
       "0     C16368  2012-09-28  WelcomeEmail  15:56:50        yes  NotApplicable\n",
       "1     C20345  2010-12-19  WelcomeEmail  15:10:30        yes  NotApplicable\n",
       "2     C17683  2010-10-03  WelcomeEmail  17:12:24        yes  NotApplicable\n",
       "3     C18647  2010-11-27  WelcomeEmail  16:59:02        yes  NotApplicable\n",
       "4     C36692  2009-12-04  WelcomeEmail  17:27:22        yes  NotApplicable"
      ]
     },
     "execution_count": 4,
     "metadata": {},
     "output_type": "execute_result"
    }
   ],
   "source": [
    "email_data = pd.read_excel('Emaildata_Train.xlsx')\n",
    "email_data.head()"
   ]
  },
  {
   "cell_type": "code",
   "execution_count": 5,
   "id": "caa82979",
   "metadata": {},
   "outputs": [
    {
     "name": "stdout",
     "output_type": "stream",
     "text": [
      "<class 'pandas.core.frame.DataFrame'>\n",
      "RangeIndex: 517672 entries, 0 to 517671\n",
      "Data columns (total 6 columns):\n",
      " #   Column       Non-Null Count   Dtype \n",
      "---  ------       --------------   ----- \n",
      " 0   CustomerID   517672 non-null  object\n",
      " 1   DateOfemail  517672 non-null  object\n",
      " 2   EmailType    517672 non-null  object\n",
      " 3   timestamp    517672 non-null  object\n",
      " 4   MailOpened   517672 non-null  object\n",
      " 5   MailClicked  517672 non-null  object\n",
      "dtypes: object(6)\n",
      "memory usage: 23.7+ MB\n"
     ]
    },
    {
     "data": {
      "text/plain": [
       "(None, (517672, 6))"
      ]
     },
     "execution_count": 5,
     "metadata": {},
     "output_type": "execute_result"
    }
   ],
   "source": [
    "email_data.info(), email_data.shape"
   ]
  },
  {
   "cell_type": "code",
   "execution_count": 6,
   "id": "87750b65",
   "metadata": {},
   "outputs": [
    {
     "data": {
      "application/javascript": [
       "\n",
       "        if (window._pyforest_update_imports_cell) { window._pyforest_update_imports_cell('import pandas as pd'); }\n",
       "    "
      ],
      "text/plain": [
       "<IPython.core.display.Javascript object>"
      ]
     },
     "metadata": {},
     "output_type": "display_data"
    },
    {
     "data": {
      "text/html": [
       "<div>\n",
       "<style scoped>\n",
       "    .dataframe tbody tr th:only-of-type {\n",
       "        vertical-align: middle;\n",
       "    }\n",
       "\n",
       "    .dataframe tbody tr th {\n",
       "        vertical-align: top;\n",
       "    }\n",
       "\n",
       "    .dataframe thead th {\n",
       "        text-align: right;\n",
       "    }\n",
       "</style>\n",
       "<table border=\"1\" class=\"dataframe\">\n",
       "  <thead>\n",
       "    <tr style=\"text-align: right;\">\n",
       "      <th></th>\n",
       "      <th>CustomerID</th>\n",
       "      <th>RetentionPotential</th>\n",
       "    </tr>\n",
       "  </thead>\n",
       "  <tbody>\n",
       "    <tr>\n",
       "      <th>0</th>\n",
       "      <td>C37869</td>\n",
       "      <td>Low</td>\n",
       "    </tr>\n",
       "    <tr>\n",
       "      <th>1</th>\n",
       "      <td>C33841</td>\n",
       "      <td>Low</td>\n",
       "    </tr>\n",
       "    <tr>\n",
       "      <th>2</th>\n",
       "      <td>C29464</td>\n",
       "      <td>Low</td>\n",
       "    </tr>\n",
       "    <tr>\n",
       "      <th>3</th>\n",
       "      <td>C28158</td>\n",
       "      <td>Low</td>\n",
       "    </tr>\n",
       "    <tr>\n",
       "      <th>4</th>\n",
       "      <td>C22785</td>\n",
       "      <td>High</td>\n",
       "    </tr>\n",
       "  </tbody>\n",
       "</table>\n",
       "</div>"
      ],
      "text/plain": [
       "  CustomerID RetentionPotential\n",
       "0     C37869                Low\n",
       "1     C33841                Low\n",
       "2     C29464                Low\n",
       "3     C28158                Low\n",
       "4     C22785               High"
      ]
     },
     "execution_count": 6,
     "metadata": {},
     "output_type": "execute_result"
    }
   ],
   "source": [
    "train_df = pd.read_excel('Train.xlsx')\n",
    "train_df.head()"
   ]
  },
  {
   "cell_type": "code",
   "execution_count": 7,
   "id": "780eb737",
   "metadata": {},
   "outputs": [
    {
     "data": {
      "application/javascript": [
       "\n",
       "        if (window._pyforest_update_imports_cell) { window._pyforest_update_imports_cell('import pandas as pd'); }\n",
       "    "
      ],
      "text/plain": [
       "<IPython.core.display.Javascript object>"
      ]
     },
     "metadata": {},
     "output_type": "display_data"
    },
    {
     "data": {
      "text/html": [
       "<div>\n",
       "<style scoped>\n",
       "    .dataframe tbody tr th:only-of-type {\n",
       "        vertical-align: middle;\n",
       "    }\n",
       "\n",
       "    .dataframe tbody tr th {\n",
       "        vertical-align: top;\n",
       "    }\n",
       "\n",
       "    .dataframe thead th {\n",
       "        text-align: right;\n",
       "    }\n",
       "</style>\n",
       "<table border=\"1\" class=\"dataframe\">\n",
       "  <thead>\n",
       "    <tr style=\"text-align: right;\">\n",
       "      <th></th>\n",
       "      <th>CustomerID</th>\n",
       "      <th>DateOfOrder</th>\n",
       "      <th>timestamp</th>\n",
       "      <th>OrderQuantity</th>\n",
       "    </tr>\n",
       "  </thead>\n",
       "  <tbody>\n",
       "    <tr>\n",
       "      <th>0</th>\n",
       "      <td>C16368</td>\n",
       "      <td>2013-08-11</td>\n",
       "      <td>15:17:52</td>\n",
       "      <td>15</td>\n",
       "    </tr>\n",
       "    <tr>\n",
       "      <th>1</th>\n",
       "      <td>C20345</td>\n",
       "      <td>2011-04-01</td>\n",
       "      <td>19:50:00</td>\n",
       "      <td>92</td>\n",
       "    </tr>\n",
       "    <tr>\n",
       "      <th>2</th>\n",
       "      <td>C20345</td>\n",
       "      <td>2012-06-29</td>\n",
       "      <td>15:11:56</td>\n",
       "      <td>95</td>\n",
       "    </tr>\n",
       "    <tr>\n",
       "      <th>3</th>\n",
       "      <td>C20345</td>\n",
       "      <td>2012-09-22</td>\n",
       "      <td>20:49:10</td>\n",
       "      <td>74</td>\n",
       "    </tr>\n",
       "    <tr>\n",
       "      <th>4</th>\n",
       "      <td>C20345</td>\n",
       "      <td>2011-08-23</td>\n",
       "      <td>11:50:26</td>\n",
       "      <td>81</td>\n",
       "    </tr>\n",
       "  </tbody>\n",
       "</table>\n",
       "</div>"
      ],
      "text/plain": [
       "  CustomerID DateOfOrder timestamp  OrderQuantity\n",
       "0     C16368  2013-08-11  15:17:52             15\n",
       "1     C20345  2011-04-01  19:50:00             92\n",
       "2     C20345  2012-06-29  15:11:56             95\n",
       "3     C20345  2012-09-22  20:49:10             74\n",
       "4     C20345  2011-08-23  11:50:26             81"
      ]
     },
     "execution_count": 7,
     "metadata": {},
     "output_type": "execute_result"
    }
   ],
   "source": [
    "transaction_df = pd.read_excel(\"transactionsdata_Train.xlsx\")\n",
    "transaction_df.head()"
   ]
  },
  {
   "cell_type": "code",
   "execution_count": 8,
   "id": "74fe5a20",
   "metadata": {},
   "outputs": [
    {
     "name": "stdout",
     "output_type": "stream",
     "text": [
      "<class 'pandas.core.frame.DataFrame'>\n",
      "RangeIndex: 104755 entries, 0 to 104754\n",
      "Data columns (total 4 columns):\n",
      " #   Column         Non-Null Count   Dtype \n",
      "---  ------         --------------   ----- \n",
      " 0   CustomerID     104755 non-null  object\n",
      " 1   DateOfOrder    104755 non-null  object\n",
      " 2   timestamp      104755 non-null  object\n",
      " 3   OrderQuantity  104755 non-null  int64 \n",
      "dtypes: int64(1), object(3)\n",
      "memory usage: 3.2+ MB\n"
     ]
    },
    {
     "data": {
      "text/plain": [
       "(None, (104755, 4))"
      ]
     },
     "execution_count": 8,
     "metadata": {},
     "output_type": "execute_result"
    }
   ],
   "source": [
    "transaction_df.info(), transaction_df.shape"
   ]
  },
  {
   "cell_type": "code",
   "execution_count": 9,
   "id": "c0438261",
   "metadata": {},
   "outputs": [
    {
     "name": "stdout",
     "output_type": "stream",
     "text": [
      "<class 'pandas.core.frame.DataFrame'>\n",
      "RangeIndex: 23820 entries, 0 to 23819\n",
      "Data columns (total 2 columns):\n",
      " #   Column              Non-Null Count  Dtype \n",
      "---  ------              --------------  ----- \n",
      " 0   CustomerID          23820 non-null  object\n",
      " 1   RetentionPotential  23820 non-null  object\n",
      "dtypes: object(2)\n",
      "memory usage: 372.3+ KB\n"
     ]
    },
    {
     "data": {
      "text/plain": [
       "(None, (23820, 2))"
      ]
     },
     "execution_count": 9,
     "metadata": {},
     "output_type": "execute_result"
    }
   ],
   "source": [
    "train_df.info(), train_df.shape"
   ]
  },
  {
   "cell_type": "code",
   "execution_count": 10,
   "id": "03105ac9",
   "metadata": {},
   "outputs": [
    {
     "data": {
      "text/plain": [
       "23820"
      ]
     },
     "execution_count": 10,
     "metadata": {},
     "output_type": "execute_result"
    }
   ],
   "source": [
    "len(cx_df.CustomerID.unique())"
   ]
  },
  {
   "cell_type": "code",
   "execution_count": 11,
   "id": "52bd0fab",
   "metadata": {},
   "outputs": [
    {
     "data": {
      "text/plain": [
       "23820"
      ]
     },
     "execution_count": 11,
     "metadata": {},
     "output_type": "execute_result"
    }
   ],
   "source": [
    "len(email_data.CustomerID.unique())"
   ]
  },
  {
   "cell_type": "code",
   "execution_count": 12,
   "id": "e99f244f",
   "metadata": {},
   "outputs": [
    {
     "data": {
      "text/plain": [
       "23820"
      ]
     },
     "execution_count": 12,
     "metadata": {},
     "output_type": "execute_result"
    }
   ],
   "source": [
    "len(transaction_df.CustomerID.unique())"
   ]
  },
  {
   "cell_type": "code",
   "execution_count": null,
   "id": "f7f00a34",
   "metadata": {},
   "outputs": [],
   "source": []
  },
  {
   "cell_type": "code",
   "execution_count": 13,
   "id": "edbf54fc",
   "metadata": {},
   "outputs": [],
   "source": [
    "email_data['D_T'] = email_data['DateOfemail'] + ' ' + email_data['timestamp']"
   ]
  },
  {
   "cell_type": "code",
   "execution_count": 14,
   "id": "d6e9744a",
   "metadata": {},
   "outputs": [
    {
     "data": {
      "application/javascript": [
       "\n",
       "        if (window._pyforest_update_imports_cell) { window._pyforest_update_imports_cell('import pandas as pd'); }\n",
       "    "
      ],
      "text/plain": [
       "<IPython.core.display.Javascript object>"
      ]
     },
     "metadata": {},
     "output_type": "display_data"
    },
    {
     "data": {
      "text/plain": [
       "0   2012-09-28 15:56:50\n",
       "1   2010-12-19 15:10:30\n",
       "2   2010-10-03 17:12:24\n",
       "3   2010-11-27 16:59:02\n",
       "4   2009-12-04 17:27:22\n",
       "Name: Date_Email, dtype: datetime64[ns]"
      ]
     },
     "execution_count": 14,
     "metadata": {},
     "output_type": "execute_result"
    }
   ],
   "source": [
    "email_data['Date_Email'] = pd.to_datetime(email_data['D_T'],infer_datetime_format=True)\n",
    "email_data['Date_Email'].head()"
   ]
  },
  {
   "cell_type": "code",
   "execution_count": 15,
   "id": "d2560ac4",
   "metadata": {},
   "outputs": [
    {
     "data": {
      "text/html": [
       "<div>\n",
       "<style scoped>\n",
       "    .dataframe tbody tr th:only-of-type {\n",
       "        vertical-align: middle;\n",
       "    }\n",
       "\n",
       "    .dataframe tbody tr th {\n",
       "        vertical-align: top;\n",
       "    }\n",
       "\n",
       "    .dataframe thead th {\n",
       "        text-align: right;\n",
       "    }\n",
       "</style>\n",
       "<table border=\"1\" class=\"dataframe\">\n",
       "  <thead>\n",
       "    <tr style=\"text-align: right;\">\n",
       "      <th></th>\n",
       "      <th>CustomerID</th>\n",
       "      <th>EmailType</th>\n",
       "      <th>MailOpened</th>\n",
       "      <th>MailClicked</th>\n",
       "      <th>Date_Email</th>\n",
       "    </tr>\n",
       "  </thead>\n",
       "  <tbody>\n",
       "    <tr>\n",
       "      <th>0</th>\n",
       "      <td>C16368</td>\n",
       "      <td>WelcomeEmail</td>\n",
       "      <td>yes</td>\n",
       "      <td>NotApplicable</td>\n",
       "      <td>2012-09-28 15:56:50</td>\n",
       "    </tr>\n",
       "    <tr>\n",
       "      <th>1</th>\n",
       "      <td>C20345</td>\n",
       "      <td>WelcomeEmail</td>\n",
       "      <td>yes</td>\n",
       "      <td>NotApplicable</td>\n",
       "      <td>2010-12-19 15:10:30</td>\n",
       "    </tr>\n",
       "    <tr>\n",
       "      <th>2</th>\n",
       "      <td>C17683</td>\n",
       "      <td>WelcomeEmail</td>\n",
       "      <td>yes</td>\n",
       "      <td>NotApplicable</td>\n",
       "      <td>2010-10-03 17:12:24</td>\n",
       "    </tr>\n",
       "    <tr>\n",
       "      <th>3</th>\n",
       "      <td>C18647</td>\n",
       "      <td>WelcomeEmail</td>\n",
       "      <td>yes</td>\n",
       "      <td>NotApplicable</td>\n",
       "      <td>2010-11-27 16:59:02</td>\n",
       "    </tr>\n",
       "    <tr>\n",
       "      <th>4</th>\n",
       "      <td>C36692</td>\n",
       "      <td>WelcomeEmail</td>\n",
       "      <td>yes</td>\n",
       "      <td>NotApplicable</td>\n",
       "      <td>2009-12-04 17:27:22</td>\n",
       "    </tr>\n",
       "  </tbody>\n",
       "</table>\n",
       "</div>"
      ],
      "text/plain": [
       "  CustomerID     EmailType MailOpened    MailClicked          Date_Email\n",
       "0     C16368  WelcomeEmail        yes  NotApplicable 2012-09-28 15:56:50\n",
       "1     C20345  WelcomeEmail        yes  NotApplicable 2010-12-19 15:10:30\n",
       "2     C17683  WelcomeEmail        yes  NotApplicable 2010-10-03 17:12:24\n",
       "3     C18647  WelcomeEmail        yes  NotApplicable 2010-11-27 16:59:02\n",
       "4     C36692  WelcomeEmail        yes  NotApplicable 2009-12-04 17:27:22"
      ]
     },
     "execution_count": 15,
     "metadata": {},
     "output_type": "execute_result"
    }
   ],
   "source": [
    "email_data.drop(['DateOfemail','timestamp','D_T'],axis=1,inplace=True)\n",
    "email_data.head()"
   ]
  },
  {
   "cell_type": "code",
   "execution_count": 16,
   "id": "4de75387",
   "metadata": {},
   "outputs": [],
   "source": [
    "transaction_df['D_T'] = transaction_df['DateOfOrder'] + ' ' + transaction_df['timestamp']"
   ]
  },
  {
   "cell_type": "code",
   "execution_count": 17,
   "id": "5396a85f",
   "metadata": {},
   "outputs": [
    {
     "data": {
      "application/javascript": [
       "\n",
       "        if (window._pyforest_update_imports_cell) { window._pyforest_update_imports_cell('import pandas as pd'); }\n",
       "    "
      ],
      "text/plain": [
       "<IPython.core.display.Javascript object>"
      ]
     },
     "metadata": {},
     "output_type": "display_data"
    },
    {
     "data": {
      "text/plain": [
       "0   2013-08-11 15:17:52\n",
       "1   2011-04-01 19:50:00\n",
       "2   2012-06-29 15:11:56\n",
       "3   2012-09-22 20:49:10\n",
       "4   2011-08-23 11:50:26\n",
       "Name: Date_Order, dtype: datetime64[ns]"
      ]
     },
     "execution_count": 17,
     "metadata": {},
     "output_type": "execute_result"
    }
   ],
   "source": [
    "transaction_df['Date_Order'] = pd.to_datetime(transaction_df['D_T'],infer_datetime_format=True)\n",
    "transaction_df['Date_Order'].head()"
   ]
  },
  {
   "cell_type": "code",
   "execution_count": 19,
   "id": "975e11d0",
   "metadata": {},
   "outputs": [
    {
     "ename": "KeyError",
     "evalue": "\"['DateOfOrder' 'timestamp' 'D_T'] not found in axis\"",
     "output_type": "error",
     "traceback": [
      "\u001b[1;31m---------------------------------------------------------------------------\u001b[0m",
      "\u001b[1;31mKeyError\u001b[0m                                  Traceback (most recent call last)",
      "\u001b[1;32m<ipython-input-19-d73c683776e3>\u001b[0m in \u001b[0;36m<module>\u001b[1;34m\u001b[0m\n\u001b[1;32m----> 1\u001b[1;33m \u001b[0mtransaction_df\u001b[0m\u001b[1;33m.\u001b[0m\u001b[0mdrop\u001b[0m\u001b[1;33m(\u001b[0m\u001b[1;33m[\u001b[0m\u001b[1;34m'DateOfOrder'\u001b[0m\u001b[1;33m,\u001b[0m\u001b[1;34m'timestamp'\u001b[0m\u001b[1;33m,\u001b[0m\u001b[1;34m'D_T'\u001b[0m\u001b[1;33m]\u001b[0m\u001b[1;33m,\u001b[0m\u001b[0maxis\u001b[0m\u001b[1;33m=\u001b[0m\u001b[1;36m1\u001b[0m\u001b[1;33m,\u001b[0m\u001b[0minplace\u001b[0m\u001b[1;33m=\u001b[0m\u001b[1;32mTrue\u001b[0m\u001b[1;33m)\u001b[0m\u001b[1;33m\u001b[0m\u001b[1;33m\u001b[0m\u001b[0m\n\u001b[0m\u001b[0;32m      2\u001b[0m \u001b[0mtransaction_df\u001b[0m\u001b[1;33m[\u001b[0m\u001b[1;34m'Day_of_week'\u001b[0m\u001b[1;33m]\u001b[0m \u001b[1;33m=\u001b[0m \u001b[0mtransaction_df\u001b[0m\u001b[1;33m.\u001b[0m\u001b[0mDate_Order\u001b[0m\u001b[1;33m.\u001b[0m\u001b[0mdt\u001b[0m\u001b[1;33m.\u001b[0m\u001b[0mday_of_week\u001b[0m\u001b[1;33m\u001b[0m\u001b[1;33m\u001b[0m\u001b[0m\n\u001b[0;32m      3\u001b[0m \u001b[0mtransaction_df\u001b[0m\u001b[1;33m.\u001b[0m\u001b[0mhead\u001b[0m\u001b[1;33m(\u001b[0m\u001b[1;33m)\u001b[0m\u001b[1;33m\u001b[0m\u001b[1;33m\u001b[0m\u001b[0m\n",
      "\u001b[1;32m~\\anaconda3\\lib\\site-packages\\pandas\\core\\frame.py\u001b[0m in \u001b[0;36mdrop\u001b[1;34m(self, labels, axis, index, columns, level, inplace, errors)\u001b[0m\n\u001b[0;32m   4306\u001b[0m                 \u001b[0mweight\u001b[0m  \u001b[1;36m1.0\u001b[0m     \u001b[1;36m0.8\u001b[0m\u001b[1;33m\u001b[0m\u001b[1;33m\u001b[0m\u001b[0m\n\u001b[0;32m   4307\u001b[0m         \"\"\"\n\u001b[1;32m-> 4308\u001b[1;33m         return super().drop(\n\u001b[0m\u001b[0;32m   4309\u001b[0m             \u001b[0mlabels\u001b[0m\u001b[1;33m=\u001b[0m\u001b[0mlabels\u001b[0m\u001b[1;33m,\u001b[0m\u001b[1;33m\u001b[0m\u001b[1;33m\u001b[0m\u001b[0m\n\u001b[0;32m   4310\u001b[0m             \u001b[0maxis\u001b[0m\u001b[1;33m=\u001b[0m\u001b[0maxis\u001b[0m\u001b[1;33m,\u001b[0m\u001b[1;33m\u001b[0m\u001b[1;33m\u001b[0m\u001b[0m\n",
      "\u001b[1;32m~\\anaconda3\\lib\\site-packages\\pandas\\core\\generic.py\u001b[0m in \u001b[0;36mdrop\u001b[1;34m(self, labels, axis, index, columns, level, inplace, errors)\u001b[0m\n\u001b[0;32m   4151\u001b[0m         \u001b[1;32mfor\u001b[0m \u001b[0maxis\u001b[0m\u001b[1;33m,\u001b[0m \u001b[0mlabels\u001b[0m \u001b[1;32min\u001b[0m \u001b[0maxes\u001b[0m\u001b[1;33m.\u001b[0m\u001b[0mitems\u001b[0m\u001b[1;33m(\u001b[0m\u001b[1;33m)\u001b[0m\u001b[1;33m:\u001b[0m\u001b[1;33m\u001b[0m\u001b[1;33m\u001b[0m\u001b[0m\n\u001b[0;32m   4152\u001b[0m             \u001b[1;32mif\u001b[0m \u001b[0mlabels\u001b[0m \u001b[1;32mis\u001b[0m \u001b[1;32mnot\u001b[0m \u001b[1;32mNone\u001b[0m\u001b[1;33m:\u001b[0m\u001b[1;33m\u001b[0m\u001b[1;33m\u001b[0m\u001b[0m\n\u001b[1;32m-> 4153\u001b[1;33m                 \u001b[0mobj\u001b[0m \u001b[1;33m=\u001b[0m \u001b[0mobj\u001b[0m\u001b[1;33m.\u001b[0m\u001b[0m_drop_axis\u001b[0m\u001b[1;33m(\u001b[0m\u001b[0mlabels\u001b[0m\u001b[1;33m,\u001b[0m \u001b[0maxis\u001b[0m\u001b[1;33m,\u001b[0m \u001b[0mlevel\u001b[0m\u001b[1;33m=\u001b[0m\u001b[0mlevel\u001b[0m\u001b[1;33m,\u001b[0m \u001b[0merrors\u001b[0m\u001b[1;33m=\u001b[0m\u001b[0merrors\u001b[0m\u001b[1;33m)\u001b[0m\u001b[1;33m\u001b[0m\u001b[1;33m\u001b[0m\u001b[0m\n\u001b[0m\u001b[0;32m   4154\u001b[0m \u001b[1;33m\u001b[0m\u001b[0m\n\u001b[0;32m   4155\u001b[0m         \u001b[1;32mif\u001b[0m \u001b[0minplace\u001b[0m\u001b[1;33m:\u001b[0m\u001b[1;33m\u001b[0m\u001b[1;33m\u001b[0m\u001b[0m\n",
      "\u001b[1;32m~\\anaconda3\\lib\\site-packages\\pandas\\core\\generic.py\u001b[0m in \u001b[0;36m_drop_axis\u001b[1;34m(self, labels, axis, level, errors)\u001b[0m\n\u001b[0;32m   4186\u001b[0m                 \u001b[0mnew_axis\u001b[0m \u001b[1;33m=\u001b[0m \u001b[0maxis\u001b[0m\u001b[1;33m.\u001b[0m\u001b[0mdrop\u001b[0m\u001b[1;33m(\u001b[0m\u001b[0mlabels\u001b[0m\u001b[1;33m,\u001b[0m \u001b[0mlevel\u001b[0m\u001b[1;33m=\u001b[0m\u001b[0mlevel\u001b[0m\u001b[1;33m,\u001b[0m \u001b[0merrors\u001b[0m\u001b[1;33m=\u001b[0m\u001b[0merrors\u001b[0m\u001b[1;33m)\u001b[0m\u001b[1;33m\u001b[0m\u001b[1;33m\u001b[0m\u001b[0m\n\u001b[0;32m   4187\u001b[0m             \u001b[1;32melse\u001b[0m\u001b[1;33m:\u001b[0m\u001b[1;33m\u001b[0m\u001b[1;33m\u001b[0m\u001b[0m\n\u001b[1;32m-> 4188\u001b[1;33m                 \u001b[0mnew_axis\u001b[0m \u001b[1;33m=\u001b[0m \u001b[0maxis\u001b[0m\u001b[1;33m.\u001b[0m\u001b[0mdrop\u001b[0m\u001b[1;33m(\u001b[0m\u001b[0mlabels\u001b[0m\u001b[1;33m,\u001b[0m \u001b[0merrors\u001b[0m\u001b[1;33m=\u001b[0m\u001b[0merrors\u001b[0m\u001b[1;33m)\u001b[0m\u001b[1;33m\u001b[0m\u001b[1;33m\u001b[0m\u001b[0m\n\u001b[0m\u001b[0;32m   4189\u001b[0m             \u001b[0mresult\u001b[0m \u001b[1;33m=\u001b[0m \u001b[0mself\u001b[0m\u001b[1;33m.\u001b[0m\u001b[0mreindex\u001b[0m\u001b[1;33m(\u001b[0m\u001b[1;33m**\u001b[0m\u001b[1;33m{\u001b[0m\u001b[0maxis_name\u001b[0m\u001b[1;33m:\u001b[0m \u001b[0mnew_axis\u001b[0m\u001b[1;33m}\u001b[0m\u001b[1;33m)\u001b[0m\u001b[1;33m\u001b[0m\u001b[1;33m\u001b[0m\u001b[0m\n\u001b[0;32m   4190\u001b[0m \u001b[1;33m\u001b[0m\u001b[0m\n",
      "\u001b[1;32m~\\anaconda3\\lib\\site-packages\\pandas\\core\\indexes\\base.py\u001b[0m in \u001b[0;36mdrop\u001b[1;34m(self, labels, errors)\u001b[0m\n\u001b[0;32m   5589\u001b[0m         \u001b[1;32mif\u001b[0m \u001b[0mmask\u001b[0m\u001b[1;33m.\u001b[0m\u001b[0many\u001b[0m\u001b[1;33m(\u001b[0m\u001b[1;33m)\u001b[0m\u001b[1;33m:\u001b[0m\u001b[1;33m\u001b[0m\u001b[1;33m\u001b[0m\u001b[0m\n\u001b[0;32m   5590\u001b[0m             \u001b[1;32mif\u001b[0m \u001b[0merrors\u001b[0m \u001b[1;33m!=\u001b[0m \u001b[1;34m\"ignore\"\u001b[0m\u001b[1;33m:\u001b[0m\u001b[1;33m\u001b[0m\u001b[1;33m\u001b[0m\u001b[0m\n\u001b[1;32m-> 5591\u001b[1;33m                 \u001b[1;32mraise\u001b[0m \u001b[0mKeyError\u001b[0m\u001b[1;33m(\u001b[0m\u001b[1;34mf\"{labels[mask]} not found in axis\"\u001b[0m\u001b[1;33m)\u001b[0m\u001b[1;33m\u001b[0m\u001b[1;33m\u001b[0m\u001b[0m\n\u001b[0m\u001b[0;32m   5592\u001b[0m             \u001b[0mindexer\u001b[0m \u001b[1;33m=\u001b[0m \u001b[0mindexer\u001b[0m\u001b[1;33m[\u001b[0m\u001b[1;33m~\u001b[0m\u001b[0mmask\u001b[0m\u001b[1;33m]\u001b[0m\u001b[1;33m\u001b[0m\u001b[1;33m\u001b[0m\u001b[0m\n\u001b[0;32m   5593\u001b[0m         \u001b[1;32mreturn\u001b[0m \u001b[0mself\u001b[0m\u001b[1;33m.\u001b[0m\u001b[0mdelete\u001b[0m\u001b[1;33m(\u001b[0m\u001b[0mindexer\u001b[0m\u001b[1;33m)\u001b[0m\u001b[1;33m\u001b[0m\u001b[1;33m\u001b[0m\u001b[0m\n",
      "\u001b[1;31mKeyError\u001b[0m: \"['DateOfOrder' 'timestamp' 'D_T'] not found in axis\""
     ]
    }
   ],
   "source": [
    "transaction_df.drop(['DateOfOrder','timestamp','D_T'],axis=1,inplace=True)\n",
    "transaction_df['Day_of_week'] = transaction_df.Date_Order.dt.day_of_week\n",
    "transaction_df.head()"
   ]
  },
  {
   "cell_type": "code",
   "execution_count": null,
   "id": "cf2ca704",
   "metadata": {},
   "outputs": [],
   "source": []
  },
  {
   "cell_type": "code",
   "execution_count": 20,
   "id": "6d9b3c74",
   "metadata": {},
   "outputs": [
    {
     "data": {
      "application/javascript": [
       "\n",
       "        if (window._pyforest_update_imports_cell) { window._pyforest_update_imports_cell('import pandas as pd'); }\n",
       "    "
      ],
      "text/plain": [
       "<IPython.core.display.Javascript object>"
      ]
     },
     "metadata": {},
     "output_type": "display_data"
    },
    {
     "data": {
      "application/javascript": [
       "\n",
       "        if (window._pyforest_update_imports_cell) { window._pyforest_update_imports_cell('import pandas as pd'); }\n",
       "    "
      ],
      "text/plain": [
       "<IPython.core.display.Javascript object>"
      ]
     },
     "metadata": {},
     "output_type": "display_data"
    },
    {
     "data": {
      "application/javascript": [
       "\n",
       "        if (window._pyforest_update_imports_cell) { window._pyforest_update_imports_cell('import pandas as pd'); }\n",
       "    "
      ],
      "text/plain": [
       "<IPython.core.display.Javascript object>"
      ]
     },
     "metadata": {},
     "output_type": "display_data"
    },
    {
     "data": {
      "text/html": [
       "<div>\n",
       "<style scoped>\n",
       "    .dataframe tbody tr th:only-of-type {\n",
       "        vertical-align: middle;\n",
       "    }\n",
       "\n",
       "    .dataframe tbody tr th {\n",
       "        vertical-align: top;\n",
       "    }\n",
       "\n",
       "    .dataframe thead th {\n",
       "        text-align: right;\n",
       "    }\n",
       "</style>\n",
       "<table border=\"1\" class=\"dataframe\">\n",
       "  <thead>\n",
       "    <tr style=\"text-align: right;\">\n",
       "      <th></th>\n",
       "      <th>EmailType</th>\n",
       "      <th>MailOpened</th>\n",
       "      <th>MailClicked</th>\n",
       "    </tr>\n",
       "    <tr>\n",
       "      <th>CustomerID</th>\n",
       "      <th></th>\n",
       "      <th></th>\n",
       "      <th></th>\n",
       "    </tr>\n",
       "  </thead>\n",
       "  <tbody>\n",
       "    <tr>\n",
       "      <th>C12116</th>\n",
       "      <td>CustomizedEmail</td>\n",
       "      <td>no</td>\n",
       "      <td>no</td>\n",
       "    </tr>\n",
       "    <tr>\n",
       "      <th>C12117</th>\n",
       "      <td>WelcomeEmail</td>\n",
       "      <td>yes</td>\n",
       "      <td>NotApplicable</td>\n",
       "    </tr>\n",
       "    <tr>\n",
       "      <th>C12118</th>\n",
       "      <td>WelcomeEmail</td>\n",
       "      <td>yes</td>\n",
       "      <td>NotApplicable</td>\n",
       "    </tr>\n",
       "    <tr>\n",
       "      <th>C12119</th>\n",
       "      <td>CustomizedEmail</td>\n",
       "      <td>no</td>\n",
       "      <td>no</td>\n",
       "    </tr>\n",
       "    <tr>\n",
       "      <th>C12120</th>\n",
       "      <td>WelcomeEmail</td>\n",
       "      <td>yes</td>\n",
       "      <td>NotApplicable</td>\n",
       "    </tr>\n",
       "  </tbody>\n",
       "</table>\n",
       "</div>"
      ],
      "text/plain": [
       "                  EmailType MailOpened    MailClicked\n",
       "CustomerID                                           \n",
       "C12116      CustomizedEmail         no             no\n",
       "C12117         WelcomeEmail        yes  NotApplicable\n",
       "C12118         WelcomeEmail        yes  NotApplicable\n",
       "C12119      CustomizedEmail         no             no\n",
       "C12120         WelcomeEmail        yes  NotApplicable"
      ]
     },
     "execution_count": 20,
     "metadata": {},
     "output_type": "execute_result"
    }
   ],
   "source": [
    "gp_email = email_data.groupby('CustomerID').agg({'EmailType':pd.Series.mode,\n",
    "                                     'MailOpened':pd.Series.mode,\n",
    "                                     'MailClicked':pd.Series.mode})\n",
    "gp_email.head()"
   ]
  },
  {
   "cell_type": "code",
   "execution_count": 21,
   "id": "aba7e2ae",
   "metadata": {},
   "outputs": [
    {
     "data": {
      "text/html": [
       "<div>\n",
       "<style scoped>\n",
       "    .dataframe tbody tr th:only-of-type {\n",
       "        vertical-align: middle;\n",
       "    }\n",
       "\n",
       "    .dataframe tbody tr th {\n",
       "        vertical-align: top;\n",
       "    }\n",
       "\n",
       "    .dataframe thead th {\n",
       "        text-align: right;\n",
       "    }\n",
       "</style>\n",
       "<table border=\"1\" class=\"dataframe\">\n",
       "  <thead>\n",
       "    <tr style=\"text-align: right;\">\n",
       "      <th></th>\n",
       "      <th>OrderQuantity</th>\n",
       "      <th>Day_of_week</th>\n",
       "    </tr>\n",
       "    <tr>\n",
       "      <th>CustomerID</th>\n",
       "      <th></th>\n",
       "      <th></th>\n",
       "    </tr>\n",
       "  </thead>\n",
       "  <tbody>\n",
       "    <tr>\n",
       "      <th>C12116</th>\n",
       "      <td>38.333333</td>\n",
       "      <td>2.333333</td>\n",
       "    </tr>\n",
       "    <tr>\n",
       "      <th>C12117</th>\n",
       "      <td>41.000000</td>\n",
       "      <td>3.000000</td>\n",
       "    </tr>\n",
       "    <tr>\n",
       "      <th>C12118</th>\n",
       "      <td>41.000000</td>\n",
       "      <td>1.000000</td>\n",
       "    </tr>\n",
       "    <tr>\n",
       "      <th>C12119</th>\n",
       "      <td>52.000000</td>\n",
       "      <td>1.000000</td>\n",
       "    </tr>\n",
       "    <tr>\n",
       "      <th>C12120</th>\n",
       "      <td>31.000000</td>\n",
       "      <td>4.000000</td>\n",
       "    </tr>\n",
       "  </tbody>\n",
       "</table>\n",
       "</div>"
      ],
      "text/plain": [
       "            OrderQuantity  Day_of_week\n",
       "CustomerID                            \n",
       "C12116          38.333333     2.333333\n",
       "C12117          41.000000     3.000000\n",
       "C12118          41.000000     1.000000\n",
       "C12119          52.000000     1.000000\n",
       "C12120          31.000000     4.000000"
      ]
     },
     "execution_count": 21,
     "metadata": {},
     "output_type": "execute_result"
    }
   ],
   "source": [
    "gp_trn = transaction_df.groupby(['CustomerID']).agg({'OrderQuantity':'mean',\n",
    "                                           'Day_of_week':'mean'})\n",
    "gp_trn.head()"
   ]
  },
  {
   "cell_type": "code",
   "execution_count": 22,
   "id": "8afcfc3b",
   "metadata": {},
   "outputs": [
    {
     "data": {
      "text/html": [
       "<div>\n",
       "<style scoped>\n",
       "    .dataframe tbody tr th:only-of-type {\n",
       "        vertical-align: middle;\n",
       "    }\n",
       "\n",
       "    .dataframe tbody tr th {\n",
       "        vertical-align: top;\n",
       "    }\n",
       "\n",
       "    .dataframe thead th {\n",
       "        text-align: right;\n",
       "    }\n",
       "</style>\n",
       "<table border=\"1\" class=\"dataframe\">\n",
       "  <thead>\n",
       "    <tr style=\"text-align: right;\">\n",
       "      <th></th>\n",
       "      <th>CustomerID</th>\n",
       "      <th>City</th>\n",
       "      <th>DateOfRegistration</th>\n",
       "      <th>OnlineCommunication</th>\n",
       "      <th>AutomaticRefill</th>\n",
       "      <th>DoorstepDelivery</th>\n",
       "      <th>PreferredDeliveryDay</th>\n",
       "      <th>EmailType</th>\n",
       "      <th>MailOpened</th>\n",
       "      <th>MailClicked</th>\n",
       "    </tr>\n",
       "  </thead>\n",
       "  <tbody>\n",
       "    <tr>\n",
       "      <th>0</th>\n",
       "      <td>C16368</td>\n",
       "      <td>CITY2</td>\n",
       "      <td>2012-09-28</td>\n",
       "      <td>0</td>\n",
       "      <td>0</td>\n",
       "      <td>0</td>\n",
       "      <td>Monday</td>\n",
       "      <td>CustomizedEmail</td>\n",
       "      <td>yes</td>\n",
       "      <td>no</td>\n",
       "    </tr>\n",
       "    <tr>\n",
       "      <th>1</th>\n",
       "      <td>C20345</td>\n",
       "      <td>CITY2</td>\n",
       "      <td>2010-12-19</td>\n",
       "      <td>1</td>\n",
       "      <td>1</td>\n",
       "      <td>1</td>\n",
       "      <td>Friday</td>\n",
       "      <td>CustomizedEmail</td>\n",
       "      <td>yes</td>\n",
       "      <td>no</td>\n",
       "    </tr>\n",
       "    <tr>\n",
       "      <th>2</th>\n",
       "      <td>C17683</td>\n",
       "      <td>CITY2</td>\n",
       "      <td>2010-10-03</td>\n",
       "      <td>0</td>\n",
       "      <td>0</td>\n",
       "      <td>0</td>\n",
       "      <td>Wednesday</td>\n",
       "      <td>WelcomeEmail</td>\n",
       "      <td>yes</td>\n",
       "      <td>NotApplicable</td>\n",
       "    </tr>\n",
       "    <tr>\n",
       "      <th>3</th>\n",
       "      <td>C18647</td>\n",
       "      <td>CITY4</td>\n",
       "      <td>2010-11-27</td>\n",
       "      <td>0</td>\n",
       "      <td>0</td>\n",
       "      <td>0</td>\n",
       "      <td>Monday</td>\n",
       "      <td>CustomizedEmail</td>\n",
       "      <td>yes</td>\n",
       "      <td>no</td>\n",
       "    </tr>\n",
       "    <tr>\n",
       "      <th>4</th>\n",
       "      <td>C36692</td>\n",
       "      <td>CITY2</td>\n",
       "      <td>2009-12-04</td>\n",
       "      <td>1</td>\n",
       "      <td>1</td>\n",
       "      <td>0</td>\n",
       "      <td>Friday</td>\n",
       "      <td>CustomizedEmail</td>\n",
       "      <td>no</td>\n",
       "      <td>no</td>\n",
       "    </tr>\n",
       "  </tbody>\n",
       "</table>\n",
       "</div>"
      ],
      "text/plain": [
       "  CustomerID   City DateOfRegistration  OnlineCommunication  AutomaticRefill  \\\n",
       "0     C16368  CITY2         2012-09-28                    0                0   \n",
       "1     C20345  CITY2         2010-12-19                    1                1   \n",
       "2     C17683  CITY2         2010-10-03                    0                0   \n",
       "3     C18647  CITY4         2010-11-27                    0                0   \n",
       "4     C36692  CITY2         2009-12-04                    1                1   \n",
       "\n",
       "   DoorstepDelivery PreferredDeliveryDay        EmailType MailOpened  \\\n",
       "0                 0               Monday  CustomizedEmail        yes   \n",
       "1                 1               Friday  CustomizedEmail        yes   \n",
       "2                 0            Wednesday     WelcomeEmail        yes   \n",
       "3                 0               Monday  CustomizedEmail        yes   \n",
       "4                 0               Friday  CustomizedEmail         no   \n",
       "\n",
       "     MailClicked  \n",
       "0             no  \n",
       "1             no  \n",
       "2  NotApplicable  \n",
       "3             no  \n",
       "4             no  "
      ]
     },
     "execution_count": 22,
     "metadata": {},
     "output_type": "execute_result"
    }
   ],
   "source": [
    "df1 = cx_df.merge(gp_email,on = 'CustomerID')\n",
    "df1.head()"
   ]
  },
  {
   "cell_type": "code",
   "execution_count": 23,
   "id": "f9759922",
   "metadata": {},
   "outputs": [
    {
     "data": {
      "text/plain": [
       "(23820, 10)"
      ]
     },
     "execution_count": 23,
     "metadata": {},
     "output_type": "execute_result"
    }
   ],
   "source": [
    "df1.shape"
   ]
  },
  {
   "cell_type": "code",
   "execution_count": 24,
   "id": "74cac761",
   "metadata": {},
   "outputs": [
    {
     "data": {
      "text/html": [
       "<div>\n",
       "<style scoped>\n",
       "    .dataframe tbody tr th:only-of-type {\n",
       "        vertical-align: middle;\n",
       "    }\n",
       "\n",
       "    .dataframe tbody tr th {\n",
       "        vertical-align: top;\n",
       "    }\n",
       "\n",
       "    .dataframe thead th {\n",
       "        text-align: right;\n",
       "    }\n",
       "</style>\n",
       "<table border=\"1\" class=\"dataframe\">\n",
       "  <thead>\n",
       "    <tr style=\"text-align: right;\">\n",
       "      <th></th>\n",
       "      <th>CustomerID</th>\n",
       "      <th>City</th>\n",
       "      <th>DateOfRegistration</th>\n",
       "      <th>OnlineCommunication</th>\n",
       "      <th>AutomaticRefill</th>\n",
       "      <th>DoorstepDelivery</th>\n",
       "      <th>PreferredDeliveryDay</th>\n",
       "      <th>EmailType</th>\n",
       "      <th>MailOpened</th>\n",
       "      <th>MailClicked</th>\n",
       "      <th>OrderQuantity</th>\n",
       "      <th>Day_of_week</th>\n",
       "    </tr>\n",
       "  </thead>\n",
       "  <tbody>\n",
       "    <tr>\n",
       "      <th>0</th>\n",
       "      <td>C16368</td>\n",
       "      <td>CITY2</td>\n",
       "      <td>2012-09-28</td>\n",
       "      <td>0</td>\n",
       "      <td>0</td>\n",
       "      <td>0</td>\n",
       "      <td>Monday</td>\n",
       "      <td>CustomizedEmail</td>\n",
       "      <td>yes</td>\n",
       "      <td>no</td>\n",
       "      <td>15.000000</td>\n",
       "      <td>6.000000</td>\n",
       "    </tr>\n",
       "    <tr>\n",
       "      <th>1</th>\n",
       "      <td>C20345</td>\n",
       "      <td>CITY2</td>\n",
       "      <td>2010-12-19</td>\n",
       "      <td>1</td>\n",
       "      <td>1</td>\n",
       "      <td>1</td>\n",
       "      <td>Friday</td>\n",
       "      <td>CustomizedEmail</td>\n",
       "      <td>yes</td>\n",
       "      <td>no</td>\n",
       "      <td>83.946237</td>\n",
       "      <td>3.193548</td>\n",
       "    </tr>\n",
       "    <tr>\n",
       "      <th>2</th>\n",
       "      <td>C17683</td>\n",
       "      <td>CITY2</td>\n",
       "      <td>2010-10-03</td>\n",
       "      <td>0</td>\n",
       "      <td>0</td>\n",
       "      <td>0</td>\n",
       "      <td>Wednesday</td>\n",
       "      <td>WelcomeEmail</td>\n",
       "      <td>yes</td>\n",
       "      <td>NotApplicable</td>\n",
       "      <td>34.076923</td>\n",
       "      <td>2.384615</td>\n",
       "    </tr>\n",
       "    <tr>\n",
       "      <th>3</th>\n",
       "      <td>C18647</td>\n",
       "      <td>CITY4</td>\n",
       "      <td>2010-11-27</td>\n",
       "      <td>0</td>\n",
       "      <td>0</td>\n",
       "      <td>0</td>\n",
       "      <td>Monday</td>\n",
       "      <td>CustomizedEmail</td>\n",
       "      <td>yes</td>\n",
       "      <td>no</td>\n",
       "      <td>106.857143</td>\n",
       "      <td>1.571429</td>\n",
       "    </tr>\n",
       "    <tr>\n",
       "      <th>4</th>\n",
       "      <td>C36692</td>\n",
       "      <td>CITY2</td>\n",
       "      <td>2009-12-04</td>\n",
       "      <td>1</td>\n",
       "      <td>1</td>\n",
       "      <td>0</td>\n",
       "      <td>Friday</td>\n",
       "      <td>CustomizedEmail</td>\n",
       "      <td>no</td>\n",
       "      <td>no</td>\n",
       "      <td>69.117647</td>\n",
       "      <td>2.705882</td>\n",
       "    </tr>\n",
       "  </tbody>\n",
       "</table>\n",
       "</div>"
      ],
      "text/plain": [
       "  CustomerID   City DateOfRegistration  OnlineCommunication  AutomaticRefill  \\\n",
       "0     C16368  CITY2         2012-09-28                    0                0   \n",
       "1     C20345  CITY2         2010-12-19                    1                1   \n",
       "2     C17683  CITY2         2010-10-03                    0                0   \n",
       "3     C18647  CITY4         2010-11-27                    0                0   \n",
       "4     C36692  CITY2         2009-12-04                    1                1   \n",
       "\n",
       "   DoorstepDelivery PreferredDeliveryDay        EmailType MailOpened  \\\n",
       "0                 0               Monday  CustomizedEmail        yes   \n",
       "1                 1               Friday  CustomizedEmail        yes   \n",
       "2                 0            Wednesday     WelcomeEmail        yes   \n",
       "3                 0               Monday  CustomizedEmail        yes   \n",
       "4                 0               Friday  CustomizedEmail         no   \n",
       "\n",
       "     MailClicked  OrderQuantity  Day_of_week  \n",
       "0             no      15.000000     6.000000  \n",
       "1             no      83.946237     3.193548  \n",
       "2  NotApplicable      34.076923     2.384615  \n",
       "3             no     106.857143     1.571429  \n",
       "4             no      69.117647     2.705882  "
      ]
     },
     "execution_count": 24,
     "metadata": {},
     "output_type": "execute_result"
    }
   ],
   "source": [
    "df2 = df1.merge(gp_trn,on='CustomerID')\n",
    "df2.head()"
   ]
  },
  {
   "cell_type": "code",
   "execution_count": 25,
   "id": "a27eb862",
   "metadata": {},
   "outputs": [
    {
     "data": {
      "text/plain": [
       "(23820, 12)"
      ]
     },
     "execution_count": 25,
     "metadata": {},
     "output_type": "execute_result"
    }
   ],
   "source": [
    "df2.shape"
   ]
  },
  {
   "cell_type": "code",
   "execution_count": 26,
   "id": "a6f4a407",
   "metadata": {},
   "outputs": [
    {
     "data": {
      "text/html": [
       "<div>\n",
       "<style scoped>\n",
       "    .dataframe tbody tr th:only-of-type {\n",
       "        vertical-align: middle;\n",
       "    }\n",
       "\n",
       "    .dataframe tbody tr th {\n",
       "        vertical-align: top;\n",
       "    }\n",
       "\n",
       "    .dataframe thead th {\n",
       "        text-align: right;\n",
       "    }\n",
       "</style>\n",
       "<table border=\"1\" class=\"dataframe\">\n",
       "  <thead>\n",
       "    <tr style=\"text-align: right;\">\n",
       "      <th></th>\n",
       "      <th>CustomerID</th>\n",
       "      <th>City</th>\n",
       "      <th>DateOfRegistration</th>\n",
       "      <th>OnlineCommunication</th>\n",
       "      <th>AutomaticRefill</th>\n",
       "      <th>DoorstepDelivery</th>\n",
       "      <th>PreferredDeliveryDay</th>\n",
       "      <th>EmailType</th>\n",
       "      <th>MailOpened</th>\n",
       "      <th>MailClicked</th>\n",
       "      <th>OrderQuantity</th>\n",
       "      <th>Day_of_week</th>\n",
       "      <th>RetentionPotential</th>\n",
       "    </tr>\n",
       "  </thead>\n",
       "  <tbody>\n",
       "    <tr>\n",
       "      <th>0</th>\n",
       "      <td>C16368</td>\n",
       "      <td>CITY2</td>\n",
       "      <td>2012-09-28</td>\n",
       "      <td>0</td>\n",
       "      <td>0</td>\n",
       "      <td>0</td>\n",
       "      <td>Monday</td>\n",
       "      <td>CustomizedEmail</td>\n",
       "      <td>yes</td>\n",
       "      <td>no</td>\n",
       "      <td>15.000000</td>\n",
       "      <td>6.000000</td>\n",
       "      <td>High</td>\n",
       "    </tr>\n",
       "    <tr>\n",
       "      <th>1</th>\n",
       "      <td>C20345</td>\n",
       "      <td>CITY2</td>\n",
       "      <td>2010-12-19</td>\n",
       "      <td>1</td>\n",
       "      <td>1</td>\n",
       "      <td>1</td>\n",
       "      <td>Friday</td>\n",
       "      <td>CustomizedEmail</td>\n",
       "      <td>yes</td>\n",
       "      <td>no</td>\n",
       "      <td>83.946237</td>\n",
       "      <td>3.193548</td>\n",
       "      <td>Low</td>\n",
       "    </tr>\n",
       "    <tr>\n",
       "      <th>2</th>\n",
       "      <td>C17683</td>\n",
       "      <td>CITY2</td>\n",
       "      <td>2010-10-03</td>\n",
       "      <td>0</td>\n",
       "      <td>0</td>\n",
       "      <td>0</td>\n",
       "      <td>Wednesday</td>\n",
       "      <td>WelcomeEmail</td>\n",
       "      <td>yes</td>\n",
       "      <td>NotApplicable</td>\n",
       "      <td>34.076923</td>\n",
       "      <td>2.384615</td>\n",
       "      <td>Medium</td>\n",
       "    </tr>\n",
       "    <tr>\n",
       "      <th>3</th>\n",
       "      <td>C18647</td>\n",
       "      <td>CITY4</td>\n",
       "      <td>2010-11-27</td>\n",
       "      <td>0</td>\n",
       "      <td>0</td>\n",
       "      <td>0</td>\n",
       "      <td>Monday</td>\n",
       "      <td>CustomizedEmail</td>\n",
       "      <td>yes</td>\n",
       "      <td>no</td>\n",
       "      <td>106.857143</td>\n",
       "      <td>1.571429</td>\n",
       "      <td>Low</td>\n",
       "    </tr>\n",
       "    <tr>\n",
       "      <th>4</th>\n",
       "      <td>C36692</td>\n",
       "      <td>CITY2</td>\n",
       "      <td>2009-12-04</td>\n",
       "      <td>1</td>\n",
       "      <td>1</td>\n",
       "      <td>0</td>\n",
       "      <td>Friday</td>\n",
       "      <td>CustomizedEmail</td>\n",
       "      <td>no</td>\n",
       "      <td>no</td>\n",
       "      <td>69.117647</td>\n",
       "      <td>2.705882</td>\n",
       "      <td>Low</td>\n",
       "    </tr>\n",
       "  </tbody>\n",
       "</table>\n",
       "</div>"
      ],
      "text/plain": [
       "  CustomerID   City DateOfRegistration  OnlineCommunication  AutomaticRefill  \\\n",
       "0     C16368  CITY2         2012-09-28                    0                0   \n",
       "1     C20345  CITY2         2010-12-19                    1                1   \n",
       "2     C17683  CITY2         2010-10-03                    0                0   \n",
       "3     C18647  CITY4         2010-11-27                    0                0   \n",
       "4     C36692  CITY2         2009-12-04                    1                1   \n",
       "\n",
       "   DoorstepDelivery PreferredDeliveryDay        EmailType MailOpened  \\\n",
       "0                 0               Monday  CustomizedEmail        yes   \n",
       "1                 1               Friday  CustomizedEmail        yes   \n",
       "2                 0            Wednesday     WelcomeEmail        yes   \n",
       "3                 0               Monday  CustomizedEmail        yes   \n",
       "4                 0               Friday  CustomizedEmail         no   \n",
       "\n",
       "     MailClicked  OrderQuantity  Day_of_week RetentionPotential  \n",
       "0             no      15.000000     6.000000               High  \n",
       "1             no      83.946237     3.193548                Low  \n",
       "2  NotApplicable      34.076923     2.384615             Medium  \n",
       "3             no     106.857143     1.571429                Low  \n",
       "4             no      69.117647     2.705882                Low  "
      ]
     },
     "execution_count": 26,
     "metadata": {},
     "output_type": "execute_result"
    }
   ],
   "source": [
    "df3 = df2.merge(train_df,on='CustomerID')\n",
    "df3.head()"
   ]
  },
  {
   "cell_type": "code",
   "execution_count": 27,
   "id": "9d2cae8a",
   "metadata": {},
   "outputs": [
    {
     "data": {
      "text/plain": [
       "(23820, 13)"
      ]
     },
     "execution_count": 27,
     "metadata": {},
     "output_type": "execute_result"
    }
   ],
   "source": [
    "df3.shape"
   ]
  },
  {
   "cell_type": "code",
   "execution_count": 28,
   "id": "b481b1d6",
   "metadata": {},
   "outputs": [
    {
     "name": "stdout",
     "output_type": "stream",
     "text": [
      "<class 'pandas.core.frame.DataFrame'>\n",
      "Int64Index: 23820 entries, 0 to 23819\n",
      "Data columns (total 13 columns):\n",
      " #   Column                Non-Null Count  Dtype         \n",
      "---  ------                --------------  -----         \n",
      " 0   CustomerID            23820 non-null  object        \n",
      " 1   City                  23820 non-null  object        \n",
      " 2   DateOfRegistration    23820 non-null  datetime64[ns]\n",
      " 3   OnlineCommunication   23820 non-null  int64         \n",
      " 4   AutomaticRefill       23820 non-null  int64         \n",
      " 5   DoorstepDelivery      23820 non-null  int64         \n",
      " 6   PreferredDeliveryDay  23820 non-null  object        \n",
      " 7   EmailType             23820 non-null  object        \n",
      " 8   MailOpened            23820 non-null  object        \n",
      " 9   MailClicked           23820 non-null  object        \n",
      " 10  OrderQuantity         23820 non-null  float64       \n",
      " 11  Day_of_week           23820 non-null  float64       \n",
      " 12  RetentionPotential    23820 non-null  object        \n",
      "dtypes: datetime64[ns](1), float64(2), int64(3), object(7)\n",
      "memory usage: 2.5+ MB\n"
     ]
    }
   ],
   "source": [
    "df3.info()"
   ]
  },
  {
   "cell_type": "code",
   "execution_count": null,
   "id": "50e3a83f",
   "metadata": {},
   "outputs": [],
   "source": []
  },
  {
   "cell_type": "code",
   "execution_count": 29,
   "id": "36e301c4",
   "metadata": {},
   "outputs": [],
   "source": [
    "from sklearn.preprocessing import LabelEncoder"
   ]
  },
  {
   "cell_type": "code",
   "execution_count": 61,
   "id": "2f649785",
   "metadata": {},
   "outputs": [],
   "source": [
    "le = LabelEncoder()"
   ]
  },
  {
   "cell_type": "code",
   "execution_count": 63,
   "id": "740de91f",
   "metadata": {},
   "outputs": [],
   "source": [
    "df3['City'] = le.fit_transform(df3['City'])"
   ]
  },
  {
   "cell_type": "code",
   "execution_count": 64,
   "id": "8c817be8",
   "metadata": {},
   "outputs": [],
   "source": [
    "df3['PreferredDeliveryDay'] = le.fit_transform(df3['PreferredDeliveryDay'])"
   ]
  },
  {
   "cell_type": "code",
   "execution_count": 66,
   "id": "ba3a0f6f",
   "metadata": {},
   "outputs": [
    {
     "ename": "ValueError",
     "evalue": "y should be a 1d array, got an array of shape () instead.",
     "output_type": "error",
     "traceback": [
      "\u001b[1;31m---------------------------------------------------------------------------\u001b[0m",
      "\u001b[1;31mValueError\u001b[0m                                Traceback (most recent call last)",
      "\u001b[1;32m<ipython-input-66-ea2e164e0bcd>\u001b[0m in \u001b[0;36m<module>\u001b[1;34m\u001b[0m\n\u001b[1;32m----> 1\u001b[1;33m \u001b[0mdf3\u001b[0m\u001b[1;33m[\u001b[0m\u001b[1;34m'EmailType'\u001b[0m\u001b[1;33m]\u001b[0m\u001b[1;33m=\u001b[0m \u001b[0mle\u001b[0m\u001b[1;33m.\u001b[0m\u001b[0mfit_transform\u001b[0m\u001b[1;33m(\u001b[0m\u001b[0mdf3\u001b[0m\u001b[1;33m[\u001b[0m\u001b[1;34m'EmailType'\u001b[0m\u001b[1;33m]\u001b[0m\u001b[1;33m.\u001b[0m\u001b[0mstr\u001b[0m\u001b[1;33m)\u001b[0m\u001b[1;33m\u001b[0m\u001b[1;33m\u001b[0m\u001b[0m\n\u001b[0m",
      "\u001b[1;32m~\\anaconda3\\lib\\site-packages\\sklearn\\preprocessing\\_label.py\u001b[0m in \u001b[0;36mfit_transform\u001b[1;34m(self, y)\u001b[0m\n\u001b[0;32m    114\u001b[0m         \u001b[0my\u001b[0m \u001b[1;33m:\u001b[0m \u001b[0marray\u001b[0m\u001b[1;33m-\u001b[0m\u001b[0mlike\u001b[0m \u001b[0mof\u001b[0m \u001b[0mshape\u001b[0m \u001b[1;33m(\u001b[0m\u001b[0mn_samples\u001b[0m\u001b[1;33m,\u001b[0m\u001b[1;33m)\u001b[0m\u001b[1;33m\u001b[0m\u001b[1;33m\u001b[0m\u001b[0m\n\u001b[0;32m    115\u001b[0m         \"\"\"\n\u001b[1;32m--> 116\u001b[1;33m         \u001b[0my\u001b[0m \u001b[1;33m=\u001b[0m \u001b[0mcolumn_or_1d\u001b[0m\u001b[1;33m(\u001b[0m\u001b[0my\u001b[0m\u001b[1;33m,\u001b[0m \u001b[0mwarn\u001b[0m\u001b[1;33m=\u001b[0m\u001b[1;32mTrue\u001b[0m\u001b[1;33m)\u001b[0m\u001b[1;33m\u001b[0m\u001b[1;33m\u001b[0m\u001b[0m\n\u001b[0m\u001b[0;32m    117\u001b[0m         \u001b[0mself\u001b[0m\u001b[1;33m.\u001b[0m\u001b[0mclasses_\u001b[0m\u001b[1;33m,\u001b[0m \u001b[0my\u001b[0m \u001b[1;33m=\u001b[0m \u001b[0m_unique\u001b[0m\u001b[1;33m(\u001b[0m\u001b[0my\u001b[0m\u001b[1;33m,\u001b[0m \u001b[0mreturn_inverse\u001b[0m\u001b[1;33m=\u001b[0m\u001b[1;32mTrue\u001b[0m\u001b[1;33m)\u001b[0m\u001b[1;33m\u001b[0m\u001b[1;33m\u001b[0m\u001b[0m\n\u001b[0;32m    118\u001b[0m         \u001b[1;32mreturn\u001b[0m \u001b[0my\u001b[0m\u001b[1;33m\u001b[0m\u001b[1;33m\u001b[0m\u001b[0m\n",
      "\u001b[1;32m~\\anaconda3\\lib\\site-packages\\sklearn\\utils\\validation.py\u001b[0m in \u001b[0;36minner_f\u001b[1;34m(*args, **kwargs)\u001b[0m\n\u001b[0;32m     61\u001b[0m             \u001b[0mextra_args\u001b[0m \u001b[1;33m=\u001b[0m \u001b[0mlen\u001b[0m\u001b[1;33m(\u001b[0m\u001b[0margs\u001b[0m\u001b[1;33m)\u001b[0m \u001b[1;33m-\u001b[0m \u001b[0mlen\u001b[0m\u001b[1;33m(\u001b[0m\u001b[0mall_args\u001b[0m\u001b[1;33m)\u001b[0m\u001b[1;33m\u001b[0m\u001b[1;33m\u001b[0m\u001b[0m\n\u001b[0;32m     62\u001b[0m             \u001b[1;32mif\u001b[0m \u001b[0mextra_args\u001b[0m \u001b[1;33m<=\u001b[0m \u001b[1;36m0\u001b[0m\u001b[1;33m:\u001b[0m\u001b[1;33m\u001b[0m\u001b[1;33m\u001b[0m\u001b[0m\n\u001b[1;32m---> 63\u001b[1;33m                 \u001b[1;32mreturn\u001b[0m \u001b[0mf\u001b[0m\u001b[1;33m(\u001b[0m\u001b[1;33m*\u001b[0m\u001b[0margs\u001b[0m\u001b[1;33m,\u001b[0m \u001b[1;33m**\u001b[0m\u001b[0mkwargs\u001b[0m\u001b[1;33m)\u001b[0m\u001b[1;33m\u001b[0m\u001b[1;33m\u001b[0m\u001b[0m\n\u001b[0m\u001b[0;32m     64\u001b[0m \u001b[1;33m\u001b[0m\u001b[0m\n\u001b[0;32m     65\u001b[0m             \u001b[1;31m# extra_args > 0\u001b[0m\u001b[1;33m\u001b[0m\u001b[1;33m\u001b[0m\u001b[1;33m\u001b[0m\u001b[0m\n",
      "\u001b[1;32m~\\anaconda3\\lib\\site-packages\\sklearn\\utils\\validation.py\u001b[0m in \u001b[0;36mcolumn_or_1d\u001b[1;34m(y, warn)\u001b[0m\n\u001b[0;32m    862\u001b[0m         \u001b[1;32mreturn\u001b[0m \u001b[0mnp\u001b[0m\u001b[1;33m.\u001b[0m\u001b[0mravel\u001b[0m\u001b[1;33m(\u001b[0m\u001b[0my\u001b[0m\u001b[1;33m)\u001b[0m\u001b[1;33m\u001b[0m\u001b[1;33m\u001b[0m\u001b[0m\n\u001b[0;32m    863\u001b[0m \u001b[1;33m\u001b[0m\u001b[0m\n\u001b[1;32m--> 864\u001b[1;33m     raise ValueError(\n\u001b[0m\u001b[0;32m    865\u001b[0m         \u001b[1;34m\"y should be a 1d array, \"\u001b[0m\u001b[1;33m\u001b[0m\u001b[1;33m\u001b[0m\u001b[0m\n\u001b[0;32m    866\u001b[0m         \"got an array of shape {} instead.\".format(shape))\n",
      "\u001b[1;31mValueError\u001b[0m: y should be a 1d array, got an array of shape () instead."
     ]
    }
   ],
   "source": [
    "df3['EmailType']= le.fit_transform(df3['EmailType'].str)"
   ]
  },
  {
   "cell_type": "code",
   "execution_count": 67,
   "id": "0959fa5c",
   "metadata": {},
   "outputs": [
    {
     "ename": "TypeError",
     "evalue": "unhashable type: 'numpy.ndarray'",
     "output_type": "error",
     "traceback": [
      "\u001b[1;31m---------------------------------------------------------------------------\u001b[0m",
      "\u001b[1;31mTypeError\u001b[0m                                 Traceback (most recent call last)",
      "\u001b[1;32mpandas\\_libs\\hashtable_class_helper.pxi\u001b[0m in \u001b[0;36mpandas._libs.hashtable.PyObjectHashTable.map_locations\u001b[1;34m()\u001b[0m\n",
      "\u001b[1;31mTypeError\u001b[0m: unhashable type: 'numpy.ndarray'"
     ]
    },
    {
     "name": "stderr",
     "output_type": "stream",
     "text": [
      "Exception ignored in: 'pandas._libs.index.IndexEngine._call_map_locations'\n",
      "Traceback (most recent call last):\n",
      "  File \"pandas\\_libs\\hashtable_class_helper.pxi\", line 4588, in pandas._libs.hashtable.PyObjectHashTable.map_locations\n",
      "TypeError: unhashable type: 'numpy.ndarray'\n"
     ]
    },
    {
     "data": {
      "text/plain": [
       "CustomizedEmail                    14002\n",
       "WelcomeEmail                        9709\n",
       "[CustomizedEmail, WelcomeEmail]        1\n",
       "[CustomizedEmail, WelcomeEmail]        1\n",
       "[CustomizedEmail, WelcomeEmail]        1\n",
       "                                   ...  \n",
       "[CustomizedEmail, WelcomeEmail]        1\n",
       "[CustomizedEmail, WelcomeEmail]        1\n",
       "[CustomizedEmail, WelcomeEmail]        1\n",
       "[CustomizedEmail, WelcomeEmail]        1\n",
       "[CustomizedEmail, WelcomeEmail]        1\n",
       "Name: EmailType, Length: 111, dtype: int64"
      ]
     },
     "execution_count": 67,
     "metadata": {},
     "output_type": "execute_result"
    }
   ],
   "source": [
    "df3['EmailType'].value_counts()"
   ]
  },
  {
   "cell_type": "code",
   "execution_count": 30,
   "id": "90cfaf1a",
   "metadata": {},
   "outputs": [
    {
     "data": {
      "text/plain": [
       "23704"
      ]
     },
     "execution_count": 30,
     "metadata": {},
     "output_type": "execute_result"
    }
   ],
   "source": [
    "14002+9702"
   ]
  },
  {
   "cell_type": "code",
   "execution_count": null,
   "id": "6111300a",
   "metadata": {},
   "outputs": [],
   "source": []
  }
 ],
 "metadata": {
  "kernelspec": {
   "display_name": "Python 3",
   "language": "python",
   "name": "python3"
  },
  "language_info": {
   "codemirror_mode": {
    "name": "ipython",
    "version": 3
   },
   "file_extension": ".py",
   "mimetype": "text/x-python",
   "name": "python",
   "nbconvert_exporter": "python",
   "pygments_lexer": "ipython3",
   "version": "3.8.8"
  }
 },
 "nbformat": 4,
 "nbformat_minor": 5
}
